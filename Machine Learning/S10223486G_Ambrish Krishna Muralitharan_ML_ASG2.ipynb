{
 "cells": [
  {
   "cell_type": "markdown",
   "metadata": {},
   "source": [
    "# Machine Learning ASG2, Ambrish Krishna Muralitharan, S10223486G<a id=\"top\"></a>"
   ]
  },
  {
   "cell_type": "markdown",
   "metadata": {},
   "source": [
    "## Table of Contents\n",
    "   \n",
    "### 1.\t[HR Analytics](#part1) \n",
    "   - [1.1 Load Data](#part1.1)\n",
    "   - [1.2 Build Classification Models](#part1.2)\n",
    "   - [1.3 Evaluate and Improve the Model(s) Performance](#part1.3)\n",
    "       - [1.3.1 Logistic Regression](#part1.3.1)\n",
    "\n",
    "       - [1.3.2 Gradient Boosting Classification](#part1.3.2)\n",
    "\n",
    "       - [1.3.3 Decision Tree Classifier](#part1.3.3)\n",
    "\n",
    "       - [1.3.4 Random Forest Classifier](#part1.3.4)\n",
    "\n",
    "       - [1.3.5 XGBoost Classifier](#part1.3.5)\n",
    "\n",
    "\n",
    "### 2.  [AirBnb](#part2)\n",
    "   - [2.1 Load Data](#part2.1)\n",
    "   - [2.2 Build Classification Models](#part2.2)\n",
    "   - [2.3 Evaluate and Improve the Model(s) Performance](#part2.3)\n",
    "        - [2.3.1 Linear Regression](#part2.3.1)\n",
    "\n",
    "        - [2.3.2 Decision Tree Regressor](#part2.3.2)\n",
    "\n",
    "        - [2.3.3 Random Forest Regressor](#part2.3.3)\n",
    "        \n",
    "        - [2.3.4 XGBoost Regressor](#part2.3.4)"
   ]
  },
  {
   "cell_type": "code",
   "execution_count": 203,
   "metadata": {},
   "outputs": [],
   "source": [
    "# import the required packages\n",
    "\n",
    "#Basic\n",
    "import pandas as pd  \n",
    "import numpy as np  \n",
    "import matplotlib.pyplot as plt\n",
    "import matplotlib.pyplot as plt\n",
    "import seaborn as sns\n",
    "\n",
    "#Q-Q plots\n",
    "import scipy.stats as stats\n",
    "\n",
    "#Warnings\n",
    "import warnings\n",
    "warnings.filterwarnings('ignore')\n",
    "\n",
    "#Train Test Split\n",
    "from sklearn.model_selection import train_test_split\n",
    "\n",
    "#Model Scores\n",
    "from sklearn import metrics\n",
    "from sklearn.metrics import f1_score,recall_score,accuracy_score,confusion_matrix\n",
    "from sklearn.metrics import mean_squared_error, mean_absolute_error\n",
    "from math import sqrt\n",
    "\n",
    "#Classification Models\n",
    "from sklearn.linear_model import LogisticRegression\n",
    "from sklearn.ensemble import GradientBoostingClassifier, RandomForestClassifier, BaggingClassifier, AdaBoostClassifier, VotingClassifier\n",
    "from xgboost import XGBClassifier\n",
    "from sklearn import tree\n",
    "from sklearn.tree import DecisionTreeClassifier\n",
    "from sklearn.svm import SVC\n",
    "from sklearn.neural_network import MLPClassifier\n",
    "\n",
    "#Regression Models\n",
    "from sklearn.tree import DecisionTreeRegressor\n",
    "from sklearn.linear_model import LinearRegression\n",
    "from sklearn.ensemble import RandomForestRegressor\n",
    "from sklearn.ensemble import GradientBoostingRegressor\n",
    "from xgboost import XGBRegressor\n",
    "\n",
    "#Hyper-parameter Tuning\n",
    "from sklearn.model_selection import GridSearchCV,cross_validate,validation_curve"
   ]
  },
  {
   "cell_type": "markdown",
   "metadata": {},
   "source": [
    "## 1. HR Analytics<a id=\"part1\"></a>\n",
    "[Back to top](#top)"
   ]
  },
  {
   "cell_type": "markdown",
   "metadata": {},
   "source": [
    "### 1.1 Load and Sample the data<a id=\"part1.1\"></a>\n",
    "[Back to top](#top)"
   ]
  },
  {
   "cell_type": "code",
   "execution_count": 204,
   "metadata": {},
   "outputs": [
    {
     "data": {
      "text/html": [
       "<div>\n",
       "<style scoped>\n",
       "    .dataframe tbody tr th:only-of-type {\n",
       "        vertical-align: middle;\n",
       "    }\n",
       "\n",
       "    .dataframe tbody tr th {\n",
       "        vertical-align: top;\n",
       "    }\n",
       "\n",
       "    .dataframe thead th {\n",
       "        text-align: right;\n",
       "    }\n",
       "</style>\n",
       "<table border=\"1\" class=\"dataframe\">\n",
       "  <thead>\n",
       "    <tr style=\"text-align: right;\">\n",
       "      <th></th>\n",
       "      <th>Unnamed: 0</th>\n",
       "      <th>employee_id</th>\n",
       "      <th>no_of_trainings</th>\n",
       "      <th>age</th>\n",
       "      <th>previous_year_rating</th>\n",
       "      <th>length_of_service</th>\n",
       "      <th>KPIs_met &gt;80%</th>\n",
       "      <th>awards_won?</th>\n",
       "      <th>avg_training_score</th>\n",
       "      <th>department_Sales &amp; Marketing</th>\n",
       "      <th>...</th>\n",
       "      <th>gender_m</th>\n",
       "      <th>recruitment_channel_sourcing</th>\n",
       "      <th>recruitment_channel_other</th>\n",
       "      <th>recruitment_channel_referred</th>\n",
       "      <th>avg_score_binned_40-50</th>\n",
       "      <th>avg_score_binned_50-60</th>\n",
       "      <th>avg_score_binned_60-70</th>\n",
       "      <th>avg_score_binned_80-90</th>\n",
       "      <th>avg_score_binned_70-80</th>\n",
       "      <th>avg_score_binned_90-100</th>\n",
       "    </tr>\n",
       "  </thead>\n",
       "  <tbody>\n",
       "    <tr>\n",
       "      <th>0</th>\n",
       "      <td>0</td>\n",
       "      <td>0.448163</td>\n",
       "      <td>-0.402832</td>\n",
       "      <td>0.054106</td>\n",
       "      <td>1.175104</td>\n",
       "      <td>-0.665623</td>\n",
       "      <td>0.983006</td>\n",
       "      <td>-0.267859</td>\n",
       "      <td>-1.174075</td>\n",
       "      <td>1.601899</td>\n",
       "      <td>...</td>\n",
       "      <td>-1.511625</td>\n",
       "      <td>1.168478</td>\n",
       "      <td>-1.109906</td>\n",
       "      <td>-0.161041</td>\n",
       "      <td>2.251715</td>\n",
       "      <td>-0.56663</td>\n",
       "      <td>-0.482663</td>\n",
       "      <td>-0.49712</td>\n",
       "      <td>-0.419484</td>\n",
       "      <td>-0.242371</td>\n",
       "    </tr>\n",
       "    <tr>\n",
       "      <th>1</th>\n",
       "      <td>1</td>\n",
       "      <td>0.858341</td>\n",
       "      <td>-0.402832</td>\n",
       "      <td>-0.214370</td>\n",
       "      <td>1.175104</td>\n",
       "      <td>0.058003</td>\n",
       "      <td>0.983006</td>\n",
       "      <td>-0.267859</td>\n",
       "      <td>-1.105435</td>\n",
       "      <td>1.601899</td>\n",
       "      <td>...</td>\n",
       "      <td>0.661540</td>\n",
       "      <td>1.168478</td>\n",
       "      <td>-1.109906</td>\n",
       "      <td>-0.161041</td>\n",
       "      <td>-0.444106</td>\n",
       "      <td>1.76482</td>\n",
       "      <td>-0.482663</td>\n",
       "      <td>-0.49712</td>\n",
       "      <td>-0.419484</td>\n",
       "      <td>-0.242371</td>\n",
       "    </tr>\n",
       "    <tr>\n",
       "      <th>2</th>\n",
       "      <td>2</td>\n",
       "      <td>-0.936203</td>\n",
       "      <td>-0.402832</td>\n",
       "      <td>2.067679</td>\n",
       "      <td>0.319732</td>\n",
       "      <td>2.711297</td>\n",
       "      <td>0.983006</td>\n",
       "      <td>-0.267859</td>\n",
       "      <td>-1.379994</td>\n",
       "      <td>1.601899</td>\n",
       "      <td>...</td>\n",
       "      <td>0.661540</td>\n",
       "      <td>-0.855814</td>\n",
       "      <td>0.900977</td>\n",
       "      <td>-0.161041</td>\n",
       "      <td>2.251715</td>\n",
       "      <td>-0.56663</td>\n",
       "      <td>-0.482663</td>\n",
       "      <td>-0.49712</td>\n",
       "      <td>-0.419484</td>\n",
       "      <td>-0.242371</td>\n",
       "    </tr>\n",
       "    <tr>\n",
       "      <th>3</th>\n",
       "      <td>3</td>\n",
       "      <td>1.727412</td>\n",
       "      <td>-0.402832</td>\n",
       "      <td>-1.019799</td>\n",
       "      <td>0.295238</td>\n",
       "      <td>-1.148040</td>\n",
       "      <td>0.983006</td>\n",
       "      <td>3.733310</td>\n",
       "      <td>-0.624956</td>\n",
       "      <td>-0.624259</td>\n",
       "      <td>...</td>\n",
       "      <td>0.661540</td>\n",
       "      <td>-0.855814</td>\n",
       "      <td>0.900977</td>\n",
       "      <td>-0.161041</td>\n",
       "      <td>-0.444106</td>\n",
       "      <td>1.76482</td>\n",
       "      <td>-0.482663</td>\n",
       "      <td>-0.49712</td>\n",
       "      <td>-0.419484</td>\n",
       "      <td>-0.242371</td>\n",
       "    </tr>\n",
       "    <tr>\n",
       "      <th>4</th>\n",
       "      <td>4</td>\n",
       "      <td>-0.987923</td>\n",
       "      <td>-0.402832</td>\n",
       "      <td>-1.019799</td>\n",
       "      <td>-0.305534</td>\n",
       "      <td>-1.148040</td>\n",
       "      <td>-1.017287</td>\n",
       "      <td>-0.267859</td>\n",
       "      <td>-0.419037</td>\n",
       "      <td>1.601899</td>\n",
       "      <td>...</td>\n",
       "      <td>0.661540</td>\n",
       "      <td>1.168478</td>\n",
       "      <td>-1.109906</td>\n",
       "      <td>-0.161041</td>\n",
       "      <td>-0.444106</td>\n",
       "      <td>-0.56663</td>\n",
       "      <td>2.071839</td>\n",
       "      <td>-0.49712</td>\n",
       "      <td>-0.419484</td>\n",
       "      <td>-0.242371</td>\n",
       "    </tr>\n",
       "  </tbody>\n",
       "</table>\n",
       "<p>5 rows × 66 columns</p>\n",
       "</div>"
      ],
      "text/plain": [
       "   Unnamed: 0  employee_id  no_of_trainings       age  previous_year_rating  \\\n",
       "0           0     0.448163        -0.402832  0.054106              1.175104   \n",
       "1           1     0.858341        -0.402832 -0.214370              1.175104   \n",
       "2           2    -0.936203        -0.402832  2.067679              0.319732   \n",
       "3           3     1.727412        -0.402832 -1.019799              0.295238   \n",
       "4           4    -0.987923        -0.402832 -1.019799             -0.305534   \n",
       "\n",
       "   length_of_service  KPIs_met >80%  awards_won?  avg_training_score  \\\n",
       "0          -0.665623       0.983006    -0.267859           -1.174075   \n",
       "1           0.058003       0.983006    -0.267859           -1.105435   \n",
       "2           2.711297       0.983006    -0.267859           -1.379994   \n",
       "3          -1.148040       0.983006     3.733310           -0.624956   \n",
       "4          -1.148040      -1.017287    -0.267859           -0.419037   \n",
       "\n",
       "   department_Sales & Marketing  ...  gender_m  recruitment_channel_sourcing  \\\n",
       "0                      1.601899  ... -1.511625                      1.168478   \n",
       "1                      1.601899  ...  0.661540                      1.168478   \n",
       "2                      1.601899  ...  0.661540                     -0.855814   \n",
       "3                     -0.624259  ...  0.661540                     -0.855814   \n",
       "4                      1.601899  ...  0.661540                      1.168478   \n",
       "\n",
       "   recruitment_channel_other  recruitment_channel_referred  \\\n",
       "0                  -1.109906                     -0.161041   \n",
       "1                  -1.109906                     -0.161041   \n",
       "2                   0.900977                     -0.161041   \n",
       "3                   0.900977                     -0.161041   \n",
       "4                  -1.109906                     -0.161041   \n",
       "\n",
       "   avg_score_binned_40-50  avg_score_binned_50-60  avg_score_binned_60-70  \\\n",
       "0                2.251715                -0.56663               -0.482663   \n",
       "1               -0.444106                 1.76482               -0.482663   \n",
       "2                2.251715                -0.56663               -0.482663   \n",
       "3               -0.444106                 1.76482               -0.482663   \n",
       "4               -0.444106                -0.56663                2.071839   \n",
       "\n",
       "   avg_score_binned_80-90  avg_score_binned_70-80  avg_score_binned_90-100  \n",
       "0                -0.49712               -0.419484                -0.242371  \n",
       "1                -0.49712               -0.419484                -0.242371  \n",
       "2                -0.49712               -0.419484                -0.242371  \n",
       "3                -0.49712               -0.419484                -0.242371  \n",
       "4                -0.49712               -0.419484                -0.242371  \n",
       "\n",
       "[5 rows x 66 columns]"
      ]
     },
     "execution_count": 204,
     "metadata": {},
     "output_type": "execute_result"
    }
   ],
   "source": [
    "hr_x = pd.read_csv('./hr_data_x.csv')\n",
    "hr_x.head()"
   ]
  },
  {
   "cell_type": "code",
   "execution_count": 205,
   "metadata": {},
   "outputs": [
    {
     "name": "stdout",
     "output_type": "stream",
     "text": [
      "<class 'pandas.core.frame.DataFrame'>\n",
      "RangeIndex: 9336 entries, 0 to 9335\n",
      "Data columns (total 66 columns):\n",
      " #   Column                        Non-Null Count  Dtype  \n",
      "---  ------                        --------------  -----  \n",
      " 0   Unnamed: 0                    9336 non-null   int64  \n",
      " 1   employee_id                   9336 non-null   float64\n",
      " 2   no_of_trainings               9336 non-null   float64\n",
      " 3   age                           9336 non-null   float64\n",
      " 4   previous_year_rating          9336 non-null   float64\n",
      " 5   length_of_service             9336 non-null   float64\n",
      " 6   KPIs_met >80%                 9336 non-null   float64\n",
      " 7   awards_won?                   9336 non-null   float64\n",
      " 8   avg_training_score            9336 non-null   float64\n",
      " 9   department_Sales & Marketing  9336 non-null   float64\n",
      " 10  department_Finance            9336 non-null   float64\n",
      " 11  department_Analytics          9336 non-null   float64\n",
      " 12  department_Technology         9336 non-null   float64\n",
      " 13  department_Legal              9336 non-null   float64\n",
      " 14  department_Operations         9336 non-null   float64\n",
      " 15  department_Procurement        9336 non-null   float64\n",
      " 16  department_R&D                9336 non-null   float64\n",
      " 17  department_HR                 9336 non-null   float64\n",
      " 18  region_region_7               9336 non-null   float64\n",
      " 19  region_region_28              9336 non-null   float64\n",
      " 20  region_region_4               9336 non-null   float64\n",
      " 21  region_region_22              9336 non-null   float64\n",
      " 22  region_region_31              9336 non-null   float64\n",
      " 23  region_region_2               9336 non-null   float64\n",
      " 24  region_region_11              9336 non-null   float64\n",
      " 25  region_region_15              9336 non-null   float64\n",
      " 26  region_region_13              9336 non-null   float64\n",
      " 27  region_region_23              9336 non-null   float64\n",
      " 28  region_region_25              9336 non-null   float64\n",
      " 29  region_region_34              9336 non-null   float64\n",
      " 30  region_region_5               9336 non-null   float64\n",
      " 31  region_region_17              9336 non-null   float64\n",
      " 32  region_region_20              9336 non-null   float64\n",
      " 33  region_region_12              9336 non-null   float64\n",
      " 34  region_region_26              9336 non-null   float64\n",
      " 35  region_region_1               9336 non-null   float64\n",
      " 36  region_region_14              9336 non-null   float64\n",
      " 37  region_region_29              9336 non-null   float64\n",
      " 38  region_region_32              9336 non-null   float64\n",
      " 39  region_region_3               9336 non-null   float64\n",
      " 40  region_region_16              9336 non-null   float64\n",
      " 41  region_region_6               9336 non-null   float64\n",
      " 42  region_region_27              9336 non-null   float64\n",
      " 43  region_region_21              9336 non-null   float64\n",
      " 44  region_region_8               9336 non-null   float64\n",
      " 45  region_region_19              9336 non-null   float64\n",
      " 46  region_region_10              9336 non-null   float64\n",
      " 47  region_region_33              9336 non-null   float64\n",
      " 48  region_region_30              9336 non-null   float64\n",
      " 49  region_region_24              9336 non-null   float64\n",
      " 50  region_region_18              9336 non-null   float64\n",
      " 51  region_region_9               9336 non-null   float64\n",
      " 52  education_Bachelor's          9336 non-null   float64\n",
      " 53  education_Master's & above    9336 non-null   float64\n",
      " 54  education_Below Secondary     9336 non-null   float64\n",
      " 55  gender_f                      9336 non-null   float64\n",
      " 56  gender_m                      9336 non-null   float64\n",
      " 57  recruitment_channel_sourcing  9336 non-null   float64\n",
      " 58  recruitment_channel_other     9336 non-null   float64\n",
      " 59  recruitment_channel_referred  9336 non-null   float64\n",
      " 60  avg_score_binned_40-50        9336 non-null   float64\n",
      " 61  avg_score_binned_50-60        9336 non-null   float64\n",
      " 62  avg_score_binned_60-70        9336 non-null   float64\n",
      " 63  avg_score_binned_80-90        9336 non-null   float64\n",
      " 64  avg_score_binned_70-80        9336 non-null   float64\n",
      " 65  avg_score_binned_90-100       9336 non-null   float64\n",
      "dtypes: float64(65), int64(1)\n",
      "memory usage: 4.7 MB\n"
     ]
    }
   ],
   "source": [
    "hr_x.info()"
   ]
  },
  {
   "cell_type": "code",
   "execution_count": 206,
   "metadata": {},
   "outputs": [],
   "source": [
    "hr_x = hr_x.drop('Unnamed: 0',axis=1)"
   ]
  },
  {
   "cell_type": "code",
   "execution_count": 207,
   "metadata": {},
   "outputs": [
    {
     "data": {
      "text/html": [
       "<div>\n",
       "<style scoped>\n",
       "    .dataframe tbody tr th:only-of-type {\n",
       "        vertical-align: middle;\n",
       "    }\n",
       "\n",
       "    .dataframe tbody tr th {\n",
       "        vertical-align: top;\n",
       "    }\n",
       "\n",
       "    .dataframe thead th {\n",
       "        text-align: right;\n",
       "    }\n",
       "</style>\n",
       "<table border=\"1\" class=\"dataframe\">\n",
       "  <thead>\n",
       "    <tr style=\"text-align: right;\">\n",
       "      <th></th>\n",
       "      <th>is_promoted</th>\n",
       "    </tr>\n",
       "  </thead>\n",
       "  <tbody>\n",
       "    <tr>\n",
       "      <th>0</th>\n",
       "      <td>1</td>\n",
       "    </tr>\n",
       "    <tr>\n",
       "      <th>1</th>\n",
       "      <td>1</td>\n",
       "    </tr>\n",
       "    <tr>\n",
       "      <th>2</th>\n",
       "      <td>1</td>\n",
       "    </tr>\n",
       "    <tr>\n",
       "      <th>3</th>\n",
       "      <td>1</td>\n",
       "    </tr>\n",
       "    <tr>\n",
       "      <th>4</th>\n",
       "      <td>1</td>\n",
       "    </tr>\n",
       "  </tbody>\n",
       "</table>\n",
       "</div>"
      ],
      "text/plain": [
       "   is_promoted\n",
       "0            1\n",
       "1            1\n",
       "2            1\n",
       "3            1\n",
       "4            1"
      ]
     },
     "execution_count": 207,
     "metadata": {},
     "output_type": "execute_result"
    }
   ],
   "source": [
    "hr_y = pd.read_csv('./hr_data_y.csv')\n",
    "hr_y = hr_y.drop('Unnamed: 0',axis=1)\n",
    "hr_y.head()"
   ]
  },
  {
   "cell_type": "code",
   "execution_count": 208,
   "metadata": {},
   "outputs": [
    {
     "data": {
      "text/plain": [
       "is_promoted\n",
       "0              4668\n",
       "1              4668\n",
       "dtype: int64"
      ]
     },
     "execution_count": 208,
     "metadata": {},
     "output_type": "execute_result"
    }
   ],
   "source": [
    "#Data has already been stratified\n",
    "hr_y.value_counts()"
   ]
  },
  {
   "cell_type": "code",
   "execution_count": 209,
   "metadata": {},
   "outputs": [],
   "source": [
    "#train test split\n",
    "X_train, X_test, y_train, y_test = train_test_split(hr_x, hr_y, test_size=0.3, random_state=2)"
   ]
  },
  {
   "cell_type": "markdown",
   "metadata": {},
   "source": [
    "### 1.2 Build the Model(s)<a id=\"part1.2\"></a>\n",
    "[Back to top](#top)"
   ]
  },
  {
   "cell_type": "code",
   "execution_count": 210,
   "metadata": {},
   "outputs": [
    {
     "data": {
      "text/plain": [
       "LogisticRegression(max_iter=10000)"
      ]
     },
     "execution_count": 210,
     "metadata": {},
     "output_type": "execute_result"
    }
   ],
   "source": [
    "#Logistic Regression\n",
    "lg = LogisticRegression(solver='lbfgs', # optimization solver\n",
    "                        max_iter=10000) # maximum iterations: set a big number to make sure the optimization solver will\n",
    "# run enough iterations to let the model converge\n",
    "lg.fit(X_train, y_train)"
   ]
  },
  {
   "cell_type": "code",
   "execution_count": 211,
   "metadata": {},
   "outputs": [
    {
     "data": {
      "text/plain": [
       "GradientBoostingClassifier(max_depth=10, random_state=2)"
      ]
     },
     "execution_count": 211,
     "metadata": {},
     "output_type": "execute_result"
    }
   ],
   "source": [
    "#GradientBoostClassifier\n",
    "gbc = GradientBoostingClassifier(max_depth=10,random_state=2)\n",
    "gbc.fit(X_train, y_train)\n"
   ]
  },
  {
   "cell_type": "code",
   "execution_count": 212,
   "metadata": {},
   "outputs": [
    {
     "data": {
      "text/plain": [
       "DecisionTreeClassifier(max_depth=10, random_state=2)"
      ]
     },
     "execution_count": 212,
     "metadata": {},
     "output_type": "execute_result"
    }
   ],
   "source": [
    "#Decision Tree\n",
    "dt = tree.DecisionTreeClassifier(max_depth = 10, random_state = 2)\n",
    "dt.fit(X_train, y_train)\n"
   ]
  },
  {
   "cell_type": "code",
   "execution_count": 213,
   "metadata": {},
   "outputs": [
    {
     "data": {
      "text/plain": [
       "RandomForestClassifier(max_depth=10, n_estimators=10)"
      ]
     },
     "execution_count": 213,
     "metadata": {},
     "output_type": "execute_result"
    }
   ],
   "source": [
    "#RandomForestClassifier\n",
    "rf = RandomForestClassifier(n_estimators=10, max_depth=10)\n",
    "rf.fit(X_train, y_train)\n"
   ]
  },
  {
   "cell_type": "code",
   "execution_count": 216,
   "metadata": {},
   "outputs": [
    {
     "data": {
      "text/plain": [
       "XGBClassifier(base_score=0.5, booster='gbtree', colsample_bylevel=1,\n",
       "              colsample_bynode=1, colsample_bytree=1, enable_categorical=False,\n",
       "              eval_metric='logloss', gamma=0, gpu_id=-1, importance_type=None,\n",
       "              interaction_constraints='', learning_rate=0.1, max_delta_step=0,\n",
       "              max_depth=6, min_child_weight=1, missing=nan,\n",
       "              monotone_constraints='()', n_estimators=20, n_jobs=16,\n",
       "              num_parallel_tree=1, predictor='auto', random_state=0,\n",
       "              reg_alpha=0, reg_lambda=1, scale_pos_weight=1, subsample=1,\n",
       "              tree_method='exact', use_label_encoder=False,\n",
       "              validate_parameters=1, verbosity=None)"
      ]
     },
     "execution_count": 216,
     "metadata": {},
     "output_type": "execute_result"
    }
   ],
   "source": [
    "#XGBoostClassifier\n",
    "xgb = XGBClassifier(n_estimators=20, learning_rate=0.1, use_label_encoder= False, eval_metric='logloss')\n",
    "xgb.fit(X_train, y_train)\n"
   ]
  },
  {
   "cell_type": "code",
   "execution_count": null,
   "metadata": {},
   "outputs": [],
   "source": []
  },
  {
   "cell_type": "markdown",
   "metadata": {},
   "source": [
    "### 1.3 Evaluate and Improve the Model(s)<a id=\"part1.3\"></a>\n",
    "[Back to top](#top)"
   ]
  },
  {
   "cell_type": "markdown",
   "metadata": {},
   "source": [
    "### 1.3.1 Logistic Regression<a id=\"part1.3.1\"></a>\n",
    "[Back to top](#top)"
   ]
  },
  {
   "cell_type": "code",
   "execution_count": 217,
   "metadata": {},
   "outputs": [
    {
     "name": "stdout",
     "output_type": "stream",
     "text": [
      "training accuracy is:  0.7964804896710023\n",
      "testing accuracy is:  0.79400214209211\n"
     ]
    }
   ],
   "source": [
    "#Logistic Regression\n",
    "\n",
    "print('training accuracy is: ', lg.score(X_train,y_train))\n",
    "print('testing accuracy is: ', lg.score(X_test,y_test))"
   ]
  },
  {
   "cell_type": "code",
   "execution_count": 218,
   "metadata": {},
   "outputs": [
    {
     "name": "stdout",
     "output_type": "stream",
     "text": [
      "[CV] END .................................................... total time=   0.0s\n",
      "[CV] END .................................................... total time=   0.0s\n",
      "[CV] END .................................................... total time=   0.0s\n",
      "[CV] END .................................................... total time=   0.0s\n"
     ]
    },
    {
     "name": "stderr",
     "output_type": "stream",
     "text": [
      "[Parallel(n_jobs=1)]: Using backend SequentialBackend with 1 concurrent workers.\n",
      "[Parallel(n_jobs=1)]: Done   1 out of   1 | elapsed:    0.0s remaining:    0.0s\n"
     ]
    },
    {
     "name": "stdout",
     "output_type": "stream",
     "text": [
      "[CV] END .................................................... total time=   0.0s\n",
      "Avg Test score:  0.7892039009552821\n"
     ]
    },
    {
     "name": "stderr",
     "output_type": "stream",
     "text": [
      "[Parallel(n_jobs=1)]: Done   5 out of   5 | elapsed:    0.1s finished\n"
     ]
    }
   ],
   "source": [
    "scores = cross_validate(\n",
    "   lg,\n",
    "    hr_x,\n",
    "    hr_y,\n",
    "    cv=5,\n",
    "    scoring=['accuracy'],\n",
    "    verbose=2\n",
    ")\n",
    "print('Avg Test score: ',np.mean(scores['test_accuracy']))"
   ]
  },
  {
   "cell_type": "code",
   "execution_count": 219,
   "metadata": {},
   "outputs": [
    {
     "name": "stdout",
     "output_type": "stream",
     "text": [
      "0.7907032317187165\n",
      "{'C': 100.0, 'penalty': 'l1', 'solver': 'liblinear'}\n"
     ]
    }
   ],
   "source": [
    "# Grid Search\n",
    "param_grid = {\n",
    "    'penalty' : ['l1','l2'], \n",
    "    'C'       : np.logspace(-3,3,7),\n",
    "    'solver'  : ['newton-cg', 'lbfgs', 'liblinear'],\n",
    "}\n",
    "\n",
    "import warnings\n",
    "warnings.filterwarnings('ignore')\n",
    "\n",
    "gs = GridSearchCV(estimator=lg, param_grid=param_grid, scoring='accuracy', cv=5, n_jobs=-1)\n",
    "lg = LogisticRegression()\n",
    "\n",
    "gs = gs.fit(hr_x, hr_y)\n",
    "\n",
    "print(gs.best_score_)\n",
    "print(gs.best_params_)\n",
    "#print(gs.cv_results_)"
   ]
  },
  {
   "cell_type": "code",
   "execution_count": 220,
   "metadata": {},
   "outputs": [
    {
     "name": "stdout",
     "output_type": "stream",
     "text": [
      "----Final Logistic Regression Model----\n",
      "training accuracy is:  0.7967865340474368\n",
      "testing accuracy is:  0.79400214209211\n"
     ]
    }
   ],
   "source": [
    "lg = LogisticRegression(solver='liblinear', # optimization solver\n",
    "                        C=100,\n",
    "                       penalty='l1') # maximum iterations: set a big number to make sure the optimization solver will\n",
    "# run enough iterations to let the model converge\n",
    "lg.fit(X_train, y_train)\n",
    "\n",
    "print('----Final Logistic Regression Model----')\n",
    "print('training accuracy is: ', lg.score(X_train,y_train))\n",
    "print('testing accuracy is: ', lg.score(X_test,y_test))"
   ]
  },
  {
   "cell_type": "markdown",
   "metadata": {},
   "source": [
    "### 1.3.2 GradientBoostingClassifier<a id=\"part1.3.2\"></a>\n",
    "[Back to top](#top)"
   ]
  },
  {
   "cell_type": "code",
   "execution_count": 221,
   "metadata": {},
   "outputs": [
    {
     "name": "stdout",
     "output_type": "stream",
     "text": [
      "training accuracy is:  0.991583779648049\n",
      "testing accuracy is:  0.7936451267404498\n"
     ]
    }
   ],
   "source": [
    "#GradientBoostingClassifier\n",
    "\n",
    "print('training accuracy is: ', gbc.score(X_train,y_train))\n",
    "print('testing accuracy is: ', gbc.score(X_test,y_test))"
   ]
  },
  {
   "cell_type": "code",
   "execution_count": 222,
   "metadata": {},
   "outputs": [
    {
     "name": "stderr",
     "output_type": "stream",
     "text": [
      "[Parallel(n_jobs=1)]: Using backend SequentialBackend with 1 concurrent workers.\n"
     ]
    },
    {
     "name": "stdout",
     "output_type": "stream",
     "text": [
      "[CV] END .................................................... total time=   5.8s\n"
     ]
    },
    {
     "name": "stderr",
     "output_type": "stream",
     "text": [
      "[Parallel(n_jobs=1)]: Done   1 out of   1 | elapsed:    5.8s remaining:    0.0s\n"
     ]
    },
    {
     "name": "stdout",
     "output_type": "stream",
     "text": [
      "[CV] END .................................................... total time=   5.7s\n",
      "[CV] END .................................................... total time=   5.5s\n",
      "[CV] END .................................................... total time=   5.6s\n",
      "[CV] END .................................................... total time=   5.4s\n",
      "Avg Test score:  0.802378169698207\n"
     ]
    },
    {
     "name": "stderr",
     "output_type": "stream",
     "text": [
      "[Parallel(n_jobs=1)]: Done   5 out of   5 | elapsed:   28.4s finished\n"
     ]
    }
   ],
   "source": [
    "scores = cross_validate(\n",
    "    gbc,\n",
    "    hr_x,\n",
    "    hr_y,\n",
    "    cv=5,\n",
    "    scoring=['accuracy'],\n",
    "    verbose=2\n",
    ")\n",
    "print('Avg Test score: ',np.mean(scores['test_accuracy']))"
   ]
  },
  {
   "cell_type": "code",
   "execution_count": 223,
   "metadata": {},
   "outputs": [
    {
     "name": "stdout",
     "output_type": "stream",
     "text": [
      "0.8149111870891822\n",
      "{'max_depth': 4, 'min_samples_leaf': 5, 'n_estimators': 100}\n"
     ]
    }
   ],
   "source": [
    "param_grid = { \"max_depth\": [2, 4, 6, 8], \n",
    "              \"min_samples_leaf\" : [1, 5, 10], \n",
    "              \"n_estimators\": [10, 20, 50, 100]}\n",
    "\n",
    "import warnings\n",
    "warnings.filterwarnings('ignore')\n",
    "\n",
    "gs = GridSearchCV(estimator=gbc, param_grid=param_grid, scoring='accuracy', cv=5, n_jobs=-1)\n",
    "gbc = GradientBoostingClassifier()\n",
    "\n",
    "gs = gs.fit(hr_x, hr_y)\n",
    "\n",
    "print(gs.best_score_)\n",
    "print(gs.best_params_)\n",
    "#print(gs.cv_results_)"
   ]
  },
  {
   "cell_type": "code",
   "execution_count": 224,
   "metadata": {},
   "outputs": [
    {
     "name": "stdout",
     "output_type": "stream",
     "text": [
      "----Final GradientBoostingClassifier Model----\n",
      "training accuracy is:  0.8512624330527927\n",
      "testing accuracy is:  0.8161370938950375\n"
     ]
    }
   ],
   "source": [
    "gbc = GradientBoostingClassifier(max_depth=4, min_samples_leaf=1, n_estimators=100)\n",
    "gbc.fit(X_train, y_train)\n",
    "\n",
    "print('----Final GradientBoostingClassifier Model----')\n",
    "print('training accuracy is: ', gbc.score(X_train,y_train))\n",
    "print('testing accuracy is: ', gbc.score(X_test,y_test))"
   ]
  },
  {
   "cell_type": "markdown",
   "metadata": {},
   "source": [
    "### 1.3.3 DecisionTreeClassifier<a id=\"part1.3.3\"></a>\n",
    "[Back to top](#top)"
   ]
  },
  {
   "cell_type": "code",
   "execution_count": 225,
   "metadata": {},
   "outputs": [
    {
     "name": "stdout",
     "output_type": "stream",
     "text": [
      "training accuracy is:  0.8437643458301454\n",
      "testing accuracy is:  0.7954302034987505\n"
     ]
    }
   ],
   "source": [
    "#DecisionTreeClassifier\n",
    "\n",
    "print('training accuracy is: ', dt.score(X_train,y_train))\n",
    "print('testing accuracy is: ', dt.score(X_test,y_test))"
   ]
  },
  {
   "cell_type": "code",
   "execution_count": 226,
   "metadata": {},
   "outputs": [
    {
     "name": "stdout",
     "output_type": "stream",
     "text": [
      "[CV] END .................................................... total time=   0.0s\n",
      "[CV] END .................................................... total time=   0.0s\n"
     ]
    },
    {
     "name": "stderr",
     "output_type": "stream",
     "text": [
      "[Parallel(n_jobs=1)]: Using backend SequentialBackend with 1 concurrent workers.\n",
      "[Parallel(n_jobs=1)]: Done   1 out of   1 | elapsed:    0.0s remaining:    0.0s\n"
     ]
    },
    {
     "name": "stdout",
     "output_type": "stream",
     "text": [
      "[CV] END .................................................... total time=   0.0s\n",
      "[CV] END .................................................... total time=   0.0s\n",
      "[CV] END .................................................... total time=   0.0s\n",
      "Avg Test score:  0.8021643810163909\n"
     ]
    },
    {
     "name": "stderr",
     "output_type": "stream",
     "text": [
      "[Parallel(n_jobs=1)]: Done   5 out of   5 | elapsed:    0.2s finished\n"
     ]
    }
   ],
   "source": [
    "scores = cross_validate(\n",
    "    dt,\n",
    "    hr_x,\n",
    "    hr_y,\n",
    "    cv=5,\n",
    "    scoring=['accuracy'],\n",
    "    verbose=2\n",
    ")\n",
    "print('Avg Test score: ',np.mean(scores['test_accuracy']))"
   ]
  },
  {
   "cell_type": "code",
   "execution_count": 227,
   "metadata": {},
   "outputs": [
    {
     "name": "stdout",
     "output_type": "stream",
     "text": [
      "0.8042002479673445\n",
      "{'criterion': 'entropy', 'max_depth': 11}\n"
     ]
    }
   ],
   "source": [
    "param_grid = { \"max_depth\": np.arange(1,40), \n",
    "              'criterion':['entropy','gini']}\n",
    "\n",
    "import warnings\n",
    "warnings.filterwarnings('ignore')\n",
    "\n",
    "gs = GridSearchCV(estimator=dt, param_grid=param_grid, scoring='accuracy', cv=5, n_jobs=-1)\n",
    "dt = tree.DecisionTreeClassifier()\n",
    "\n",
    "gs = gs.fit(hr_x, hr_y)\n",
    "\n",
    "print(gs.best_score_)\n",
    "print(gs.best_params_)\n",
    "#print(gs.cv_results_)"
   ]
  },
  {
   "cell_type": "code",
   "execution_count": 228,
   "metadata": {},
   "outputs": [
    {
     "name": "stdout",
     "output_type": "stream",
     "text": [
      "----Final DecisionTreeClassifier Model----\n",
      "training accuracy is:  0.848814078041316\n",
      "testing accuracy is:  0.8036415565869333\n"
     ]
    }
   ],
   "source": [
    "dt = tree.DecisionTreeClassifier(max_depth = 11, criterion = 'entropy')\n",
    "dt.fit(X_train, y_train)\n",
    "\n",
    "print('----Final DecisionTreeClassifier Model----')\n",
    "print('training accuracy is: ', dt.score(X_train,y_train))\n",
    "print('testing accuracy is: ', dt.score(X_test,y_test))"
   ]
  },
  {
   "cell_type": "markdown",
   "metadata": {},
   "source": [
    "### 1.3.4 RandomForestClassifier<a id=\"part1.3.4\"></a>\n",
    "[Back to top](#top)"
   ]
  },
  {
   "cell_type": "code",
   "execution_count": 229,
   "metadata": {},
   "outputs": [
    {
     "name": "stdout",
     "output_type": "stream",
     "text": [
      "training accuracy is:  0.8322876817138485\n",
      "testing accuracy is:  0.7843627275972866\n"
     ]
    }
   ],
   "source": [
    "#RandomForestClassifier\n",
    "\n",
    "print('training accuracy is: ', rf.score(X_train,y_train))\n",
    "print('testing accuracy is: ', rf.score(X_test,y_test))"
   ]
  },
  {
   "cell_type": "code",
   "execution_count": 230,
   "metadata": {},
   "outputs": [
    {
     "name": "stdout",
     "output_type": "stream",
     "text": [
      "[CV] END .................................................... total time=   0.0s\n",
      "[CV] END .................................................... total time=   0.0s\n"
     ]
    },
    {
     "name": "stderr",
     "output_type": "stream",
     "text": [
      "[Parallel(n_jobs=1)]: Using backend SequentialBackend with 1 concurrent workers.\n",
      "[Parallel(n_jobs=1)]: Done   1 out of   1 | elapsed:    0.0s remaining:    0.0s\n"
     ]
    },
    {
     "name": "stdout",
     "output_type": "stream",
     "text": [
      "[CV] END .................................................... total time=   0.0s\n",
      "[CV] END .................................................... total time=   0.0s\n",
      "[CV] END .................................................... total time=   0.0s\n",
      "Avg Test score:  0.7792423691547892\n"
     ]
    },
    {
     "name": "stderr",
     "output_type": "stream",
     "text": [
      "[Parallel(n_jobs=1)]: Done   5 out of   5 | elapsed:    0.3s finished\n"
     ]
    }
   ],
   "source": [
    "scores = cross_validate(\n",
    "   rf,\n",
    "    hr_x,\n",
    "    hr_y,\n",
    "    cv=5,\n",
    "    scoring=['accuracy'],\n",
    "    verbose=2\n",
    ")\n",
    "print('Avg Test score: ',np.mean(scores['test_accuracy']))"
   ]
  },
  {
   "cell_type": "code",
   "execution_count": 231,
   "metadata": {},
   "outputs": [
    {
     "name": "stdout",
     "output_type": "stream",
     "text": [
      "0.7984158533941821\n",
      "{'criterion': 'entropy', 'max_depth': 16}\n"
     ]
    }
   ],
   "source": [
    "param_grid = { \"max_depth\": np.arange(1,40), \n",
    "              'criterion':['entropy','gini']}\n",
    "\n",
    "import warnings\n",
    "warnings.filterwarnings('ignore')\n",
    "\n",
    "gs = GridSearchCV(estimator=rf, param_grid=param_grid, scoring='accuracy', cv=5, n_jobs=-1)\n",
    "rf = RandomForestClassifier()\n",
    "\n",
    "gs = gs.fit(hr_x, hr_y)\n",
    "\n",
    "print(gs.best_score_)\n",
    "print(gs.best_params_)\n",
    "#print(gs.cv_results_)"
   ]
  },
  {
   "cell_type": "code",
   "execution_count": 232,
   "metadata": {},
   "outputs": [
    {
     "name": "stdout",
     "output_type": "stream",
     "text": [
      "----Final RandomForestClassifier Model----\n",
      "training accuracy is:  0.9499617444529457\n",
      "testing accuracy is:  0.8093538022134952\n"
     ]
    }
   ],
   "source": [
    "rf = RandomForestClassifier(criterion = 'gini', max_depth = 17)\n",
    "rf.fit(X_train, y_train)\n",
    "\n",
    "print('----Final RandomForestClassifier Model----')\n",
    "print('training accuracy is: ', rf.score(X_train,y_train))\n",
    "print('testing accuracy is: ', rf.score(X_test,y_test))"
   ]
  },
  {
   "cell_type": "markdown",
   "metadata": {},
   "source": [
    "### 1.3.5 XGBoostClassifier<a id=\"part1.3.5\"></a>\n",
    "[Back to top](#top)"
   ]
  },
  {
   "cell_type": "code",
   "execution_count": 241,
   "metadata": {},
   "outputs": [
    {
     "name": "stdout",
     "output_type": "stream",
     "text": [
      "training accuracy is:  0.8249426166794185\n",
      "testing accuracy is:  0.8186362013566584\n"
     ]
    }
   ],
   "source": [
    "#XGBoostClassifier\n",
    "\n",
    "print('training accuracy is: ', xgb.score(X_train,y_train))\n",
    "print('testing accuracy is: ', xgb.score(X_test,y_test))"
   ]
  },
  {
   "cell_type": "code",
   "execution_count": 242,
   "metadata": {},
   "outputs": [
    {
     "name": "stdout",
     "output_type": "stream",
     "text": [
      "[CV] END .................................................... total time=   0.0s\n"
     ]
    },
    {
     "name": "stderr",
     "output_type": "stream",
     "text": [
      "[Parallel(n_jobs=1)]: Using backend SequentialBackend with 1 concurrent workers.\n",
      "[Parallel(n_jobs=1)]: Done   1 out of   1 | elapsed:    0.0s remaining:    0.0s\n"
     ]
    },
    {
     "name": "stdout",
     "output_type": "stream",
     "text": [
      "[CV] END .................................................... total time=   0.0s\n",
      "[CV] END .................................................... total time=   0.0s\n",
      "[CV] END .................................................... total time=   0.0s\n",
      "[CV] END .................................................... total time=   0.0s\n",
      "Avg Test score:  0.8059129086385995\n"
     ]
    },
    {
     "name": "stderr",
     "output_type": "stream",
     "text": [
      "[Parallel(n_jobs=1)]: Done   5 out of   5 | elapsed:    0.5s finished\n"
     ]
    }
   ],
   "source": [
    "scores = cross_validate(\n",
    "   xgb,\n",
    "    hr_x,\n",
    "    hr_y,\n",
    "    cv=5,\n",
    "    scoring=['accuracy'],\n",
    "    verbose=2\n",
    ")\n",
    "print('Avg Test score: ',np.mean(scores['test_accuracy']))"
   ]
  },
  {
   "cell_type": "code",
   "execution_count": 243,
   "metadata": {},
   "outputs": [
    {
     "name": "stdout",
     "output_type": "stream",
     "text": [
      "0.8155540441501155\n",
      "{'learning_rate': 0.1, 'max_depth': 4, 'n_estimators': 140}\n"
     ]
    }
   ],
   "source": [
    "param_grid = {'max_depth': range (2, 10, 1),\n",
    "              'n_estimators': range(60, 220, 40),\n",
    "              'learning_rate': [0.1, 0.01, 0.05]\n",
    "             }\n",
    "\n",
    "import warnings\n",
    "warnings.filterwarnings('ignore')\n",
    "\n",
    "gs = GridSearchCV(estimator=xgb, param_grid=param_grid, scoring='accuracy', cv=5, n_jobs=-1)\n",
    "xgb = XGBClassifier()\n",
    "\n",
    "gs = gs.fit(hr_x, hr_y)\n",
    "\n",
    "print(gs.best_score_)\n",
    "print(gs.best_params_)\n",
    "#print(gs.cv_results_)"
   ]
  },
  {
   "cell_type": "code",
   "execution_count": 244,
   "metadata": {},
   "outputs": [
    {
     "name": "stdout",
     "output_type": "stream",
     "text": [
      "----Final XGBClassifier Model----\n",
      "training accuracy is:  0.8495791889824025\n",
      "testing accuracy is:  0.8204212781149589\n"
     ]
    }
   ],
   "source": [
    "xgb = XGBClassifier(n_estimators=140, learning_rate=0.1, max_depth = 4,  use_label_encoder= False, eval_metric='logloss')\n",
    "xgb.fit(X_train, y_train)\n",
    "\n",
    "print('----Final XGBClassifier Model----')\n",
    "print('training accuracy is: ', xgb.score(X_train,y_train))\n",
    "print('testing accuracy is: ', xgb.score(X_test,y_test))"
   ]
  },
  {
   "cell_type": "markdown",
   "metadata": {},
   "source": [
    "## 2. Airbnb<a id=\"part2\"></a>\n",
    "[Back to top](#top)"
   ]
  },
  {
   "cell_type": "markdown",
   "metadata": {},
   "source": [
    "### 2.1 Load and Sample the data<a id=\"part2.1\"></a>\n",
    "[Back to top](#top)"
   ]
  },
  {
   "cell_type": "code",
   "execution_count": 245,
   "metadata": {},
   "outputs": [
    {
     "name": "stdout",
     "output_type": "stream",
     "text": [
      "(4115, 16)\n"
     ]
    }
   ],
   "source": [
    "listings = pd.read_csv('./listings_new1.csv')\n",
    "print(listings.shape)"
   ]
  },
  {
   "cell_type": "code",
   "execution_count": 246,
   "metadata": {},
   "outputs": [
    {
     "data": {
      "text/html": [
       "<div>\n",
       "<style scoped>\n",
       "    .dataframe tbody tr th:only-of-type {\n",
       "        vertical-align: middle;\n",
       "    }\n",
       "\n",
       "    .dataframe tbody tr th {\n",
       "        vertical-align: top;\n",
       "    }\n",
       "\n",
       "    .dataframe thead th {\n",
       "        text-align: right;\n",
       "    }\n",
       "</style>\n",
       "<table border=\"1\" class=\"dataframe\">\n",
       "  <thead>\n",
       "    <tr style=\"text-align: right;\">\n",
       "      <th></th>\n",
       "      <th>id</th>\n",
       "      <th>name</th>\n",
       "      <th>host_id</th>\n",
       "      <th>host_name</th>\n",
       "      <th>neighbourhood_group</th>\n",
       "      <th>neighbourhood</th>\n",
       "      <th>latitude</th>\n",
       "      <th>longitude</th>\n",
       "      <th>room_type</th>\n",
       "      <th>price</th>\n",
       "      <th>minimum_nights</th>\n",
       "      <th>number_of_reviews</th>\n",
       "      <th>last_review</th>\n",
       "      <th>reviews_per_month</th>\n",
       "      <th>calculated_host_listings_count</th>\n",
       "      <th>availability_365</th>\n",
       "    </tr>\n",
       "  </thead>\n",
       "  <tbody>\n",
       "    <tr>\n",
       "      <th>0</th>\n",
       "      <td>275343</td>\n",
       "      <td>1425</td>\n",
       "      <td>1439258</td>\n",
       "      <td>464</td>\n",
       "      <td>0</td>\n",
       "      <td>1</td>\n",
       "      <td>1.28875</td>\n",
       "      <td>103.80814</td>\n",
       "      <td>1</td>\n",
       "      <td>44</td>\n",
       "      <td>0.666667</td>\n",
       "      <td>18</td>\n",
       "      <td>605</td>\n",
       "      <td>0.065476</td>\n",
       "      <td>0.198718</td>\n",
       "      <td>0.906849</td>\n",
       "    </tr>\n",
       "    <tr>\n",
       "      <th>1</th>\n",
       "      <td>604966</td>\n",
       "      <td>1002</td>\n",
       "      <td>2996022</td>\n",
       "      <td>288</td>\n",
       "      <td>0</td>\n",
       "      <td>2</td>\n",
       "      <td>1.33171</td>\n",
       "      <td>103.79383</td>\n",
       "      <td>0</td>\n",
       "      <td>276</td>\n",
       "      <td>0.142857</td>\n",
       "      <td>11</td>\n",
       "      <td>275</td>\n",
       "      <td>0.035714</td>\n",
       "      <td>0.000000</td>\n",
       "      <td>0.991781</td>\n",
       "    </tr>\n",
       "    <tr>\n",
       "      <th>2</th>\n",
       "      <td>719944</td>\n",
       "      <td>1952</td>\n",
       "      <td>3648224</td>\n",
       "      <td>102</td>\n",
       "      <td>0</td>\n",
       "      <td>13</td>\n",
       "      <td>1.30901</td>\n",
       "      <td>103.79639</td>\n",
       "      <td>2</td>\n",
       "      <td>208</td>\n",
       "      <td>0.000000</td>\n",
       "      <td>0</td>\n",
       "      <td>730</td>\n",
       "      <td>NaN</td>\n",
       "      <td>0.000000</td>\n",
       "      <td>0.000000</td>\n",
       "    </tr>\n",
       "    <tr>\n",
       "      <th>3</th>\n",
       "      <td>782227</td>\n",
       "      <td>1503</td>\n",
       "      <td>4125828</td>\n",
       "      <td>410</td>\n",
       "      <td>0</td>\n",
       "      <td>13</td>\n",
       "      <td>1.28342</td>\n",
       "      <td>103.78585</td>\n",
       "      <td>1</td>\n",
       "      <td>128</td>\n",
       "      <td>0.095238</td>\n",
       "      <td>0</td>\n",
       "      <td>730</td>\n",
       "      <td>NaN</td>\n",
       "      <td>0.000000</td>\n",
       "      <td>1.000000</td>\n",
       "    </tr>\n",
       "    <tr>\n",
       "      <th>4</th>\n",
       "      <td>804470</td>\n",
       "      <td>3073</td>\n",
       "      <td>741873</td>\n",
       "      <td>203</td>\n",
       "      <td>0</td>\n",
       "      <td>18</td>\n",
       "      <td>1.30292</td>\n",
       "      <td>103.82253</td>\n",
       "      <td>0</td>\n",
       "      <td>2604</td>\n",
       "      <td>0.000000</td>\n",
       "      <td>1</td>\n",
       "      <td>0</td>\n",
       "      <td>0.000000</td>\n",
       "      <td>0.000000</td>\n",
       "      <td>0.000000</td>\n",
       "    </tr>\n",
       "  </tbody>\n",
       "</table>\n",
       "</div>"
      ],
      "text/plain": [
       "       id  name  host_id  host_name  neighbourhood_group  neighbourhood  \\\n",
       "0  275343  1425  1439258        464                    0              1   \n",
       "1  604966  1002  2996022        288                    0              2   \n",
       "2  719944  1952  3648224        102                    0             13   \n",
       "3  782227  1503  4125828        410                    0             13   \n",
       "4  804470  3073   741873        203                    0             18   \n",
       "\n",
       "   latitude  longitude  room_type  price  minimum_nights  number_of_reviews  \\\n",
       "0   1.28875  103.80814          1     44        0.666667                 18   \n",
       "1   1.33171  103.79383          0    276        0.142857                 11   \n",
       "2   1.30901  103.79639          2    208        0.000000                  0   \n",
       "3   1.28342  103.78585          1    128        0.095238                  0   \n",
       "4   1.30292  103.82253          0   2604        0.000000                  1   \n",
       "\n",
       "   last_review  reviews_per_month  calculated_host_listings_count  \\\n",
       "0          605           0.065476                        0.198718   \n",
       "1          275           0.035714                        0.000000   \n",
       "2          730                NaN                        0.000000   \n",
       "3          730                NaN                        0.000000   \n",
       "4            0           0.000000                        0.000000   \n",
       "\n",
       "   availability_365  \n",
       "0          0.906849  \n",
       "1          0.991781  \n",
       "2          0.000000  \n",
       "3          1.000000  \n",
       "4          0.000000  "
      ]
     },
     "execution_count": 246,
     "metadata": {},
     "output_type": "execute_result"
    }
   ],
   "source": [
    "listings.head()"
   ]
  },
  {
   "cell_type": "code",
   "execution_count": 247,
   "metadata": {},
   "outputs": [],
   "source": [
    "listings = listings.drop(['reviews_per_month'], axis = 1)"
   ]
  },
  {
   "cell_type": "code",
   "execution_count": 248,
   "metadata": {},
   "outputs": [],
   "source": [
    "#plot histogram and Q-Q plots and box plot to have a look at the variable distribution and outliers\n",
    "def diagnostic_plots(df, variable):\n",
    "    # function takes a dataframe (df) and\n",
    "    # the variable of interest as arguments\n",
    "\n",
    "    # define figure size\n",
    "    plt.figure(figsize=(16, 4))\n",
    "\n",
    "    # histogram\n",
    "    plt.subplot(1, 3, 1)\n",
    "    sns.distplot(df[variable], bins=30)\n",
    "    plt.title('Histogram')\n",
    "\n",
    "    # Q-Q plot\n",
    "    plt.subplot(1, 3, 2)\n",
    "    stats.probplot(df[variable], dist=\"norm\", plot=plt)\n",
    "    \n",
    "\n",
    "    # boxplot\n",
    "    plt.subplot(1, 3, 3)\n",
    "    sns.boxplot(y=df[variable])\n",
    "    plt.title('Boxplot')\n",
    "\n",
    "    plt.show()"
   ]
  },
  {
   "cell_type": "code",
   "execution_count": 249,
   "metadata": {},
   "outputs": [
    {
     "data": {
      "image/png": "[encoded data removed]",
      "text/plain": [
       "<Figure size 1600x400 with 3 Axes>"
      ]
     },
     "metadata": {},
     "output_type": "display_data"
    }
   ],
   "source": [
    "# Plot for the variable reviews_per_month which contains outliers\n",
    "diagnostic_plots(listings, 'price')"
   ]
  },
  {
   "cell_type": "code",
   "execution_count": 250,
   "metadata": {},
   "outputs": [],
   "source": [
    "def find_boundaries(df, variable):\n",
    "    \n",
    "    #calculate the boundaries outside \n",
    "\n",
    "    IQR = df[variable].quantile(0.75) - df[variable].quantile(0.25)\n",
    "\n",
    "    lower_boundary = df[variable].quantile(0.25) - (IQR * 1.5)\n",
    "    upper_boundary = df[variable].quantile(0.75) + (IQR * 1.5)\n",
    "\n",
    "    return upper_boundary, lower_boundary"
   ]
  },
  {
   "cell_type": "code",
   "execution_count": 251,
   "metadata": {},
   "outputs": [
    {
     "data": {
      "text/plain": [
       "(426.0, -126.0)"
      ]
     },
     "execution_count": 251,
     "metadata": {},
     "output_type": "execute_result"
    }
   ],
   "source": [
    "# find the upper and lower boudaries for the variable minimum_nights, highlighting outliers\n",
    "\n",
    "p_upper_boundary, p_lower_boundary = find_boundaries(listings, 'price')\n",
    "p_upper_boundary, p_lower_boundary"
   ]
  },
  {
   "cell_type": "code",
   "execution_count": 252,
   "metadata": {},
   "outputs": [],
   "source": [
    "# Flag outliers in minimum_nights\n",
    "p_outliers = np.where(listings['price'] > p_upper_boundary, True,\n",
    "                    np.where(listings['price'] < p_lower_boundary, True, False))"
   ]
  },
  {
   "cell_type": "code",
   "execution_count": 253,
   "metadata": {},
   "outputs": [
    {
     "data": {
      "text/plain": [
       "(3894, 15)"
      ]
     },
     "execution_count": 253,
     "metadata": {},
     "output_type": "execute_result"
    }
   ],
   "source": [
    "# trim the dataset of outliers across multiple variables\n",
    "listings = listings.loc[~(p_outliers), ] \n",
    "listings.shape "
   ]
  },
  {
   "cell_type": "code",
   "execution_count": 254,
   "metadata": {},
   "outputs": [
    {
     "data": {
      "image/png": "[encoded data removed]",
      "text/plain": [
       "<Figure size 1600x400 with 3 Axes>"
      ]
     },
     "metadata": {},
     "output_type": "display_data"
    }
   ],
   "source": [
    "# Plot for the variable reviews_per_month which contains outliers\n",
    "diagnostic_plots(listings, 'price')"
   ]
  },
  {
   "cell_type": "code",
   "execution_count": 255,
   "metadata": {},
   "outputs": [
    {
     "name": "stdout",
     "output_type": "stream",
     "text": [
      "<class 'pandas.core.frame.DataFrame'>\n",
      "Int64Index: 3894 entries, 0 to 4114\n",
      "Data columns (total 15 columns):\n",
      " #   Column                          Non-Null Count  Dtype  \n",
      "---  ------                          --------------  -----  \n",
      " 0   id                              3894 non-null   int64  \n",
      " 1   name                            3894 non-null   int64  \n",
      " 2   host_id                         3894 non-null   int64  \n",
      " 3   host_name                       3894 non-null   int64  \n",
      " 4   neighbourhood_group             3894 non-null   int64  \n",
      " 5   neighbourhood                   3894 non-null   int64  \n",
      " 6   latitude                        3894 non-null   float64\n",
      " 7   longitude                       3894 non-null   float64\n",
      " 8   room_type                       3894 non-null   int64  \n",
      " 9   price                           3894 non-null   int64  \n",
      " 10  minimum_nights                  3894 non-null   float64\n",
      " 11  number_of_reviews               3894 non-null   int64  \n",
      " 12  last_review                     3894 non-null   int64  \n",
      " 13  calculated_host_listings_count  3894 non-null   float64\n",
      " 14  availability_365                3894 non-null   float64\n",
      "dtypes: float64(5), int64(10)\n",
      "memory usage: 486.8 KB\n"
     ]
    }
   ],
   "source": [
    "listings.info()"
   ]
  },
  {
   "cell_type": "code",
   "execution_count": 256,
   "metadata": {},
   "outputs": [],
   "source": [
    "#train test split\n",
    "list_X = listings.drop('price',axis=1)\n",
    "list_y = listings.price\n",
    "\n",
    "\n",
    "X_train, X_test, y_train, y_test = train_test_split(list_X, list_y, test_size=0.3, random_state=2)"
   ]
  },
  {
   "cell_type": "markdown",
   "metadata": {},
   "source": [
    "### 2.2 Build the Model(s)<a id=\"part2.2\"></a>\n",
    "[Back to top](#top)"
   ]
  },
  {
   "cell_type": "code",
   "execution_count": 257,
   "metadata": {},
   "outputs": [
    {
     "data": {
      "text/plain": [
       "LinearRegression()"
      ]
     },
     "execution_count": 257,
     "metadata": {},
     "output_type": "execute_result"
    }
   ],
   "source": [
    "#Linear Regression\n",
    "lm = LinearRegression()\n",
    "lm.fit(X_train, y_train)"
   ]
  },
  {
   "cell_type": "code",
   "execution_count": 258,
   "metadata": {},
   "outputs": [
    {
     "data": {
      "text/plain": [
       "DecisionTreeRegressor()"
      ]
     },
     "execution_count": 258,
     "metadata": {},
     "output_type": "execute_result"
    }
   ],
   "source": [
    "#Decision Tree Regression\n",
    "dtr= DecisionTreeRegressor()\n",
    "dtr.fit(X_train,y_train)"
   ]
  },
  {
   "cell_type": "code",
   "execution_count": 259,
   "metadata": {},
   "outputs": [
    {
     "data": {
      "text/plain": [
       "RandomForestRegressor()"
      ]
     },
     "execution_count": 259,
     "metadata": {},
     "output_type": "execute_result"
    }
   ],
   "source": [
    "#Random Forest Regression\n",
    "rfr= RandomForestRegressor()\n",
    "rfr.fit(X_train,y_train)"
   ]
  },
  {
   "cell_type": "code",
   "execution_count": 260,
   "metadata": {},
   "outputs": [
    {
     "data": {
      "text/plain": [
       "GradientBoostingRegressor()"
      ]
     },
     "execution_count": 260,
     "metadata": {},
     "output_type": "execute_result"
    }
   ],
   "source": [
    "#Gradient Boost Regression\n",
    "gbr = GradientBoostingRegressor()\n",
    "gbr.fit(X_train, y_train)"
   ]
  },
  {
   "cell_type": "code",
   "execution_count": 261,
   "metadata": {},
   "outputs": [
    {
     "data": {
      "text/plain": [
       "XGBRegressor(base_score=0.5, booster='gbtree', colsample_bylevel=1,\n",
       "             colsample_bynode=1, colsample_bytree=1, enable_categorical=False,\n",
       "             gamma=0, gpu_id=-1, importance_type=None,\n",
       "             interaction_constraints='', learning_rate=0.300000012,\n",
       "             max_delta_step=0, max_depth=6, min_child_weight=1, missing=nan,\n",
       "             monotone_constraints='()', n_estimators=100, n_jobs=16,\n",
       "             num_parallel_tree=1, predictor='auto', random_state=0, reg_alpha=0,\n",
       "             reg_lambda=1, scale_pos_weight=1, subsample=1, tree_method='exact',\n",
       "             validate_parameters=1, verbosity=None)"
      ]
     },
     "execution_count": 261,
     "metadata": {},
     "output_type": "execute_result"
    }
   ],
   "source": [
    "#XGBoost Regression\n",
    "xgbr = XGBRegressor()\n",
    "xgbr.fit(X_train, y_train)"
   ]
  },
  {
   "cell_type": "markdown",
   "metadata": {},
   "source": [
    "### 2.3 Evaluate and Improve the Model(s)<a id=\"part2.3\"></a>\n",
    "[Back to top](#top)"
   ]
  },
  {
   "cell_type": "markdown",
   "metadata": {},
   "source": [
    "### 2.3.1 Linear Regression<a id=\"part2.3.1\"></a>\n",
    "[Back to top](#top)"
   ]
  },
  {
   "cell_type": "code",
   "execution_count": 262,
   "metadata": {},
   "outputs": [
    {
     "name": "stdout",
     "output_type": "stream",
     "text": [
      "68.88932535652624 (Train RMSE)\n",
      "52.15709779646205 (Train MAE)\n",
      "0.4069035555734736 (Train R^2 Value)\n"
     ]
    }
   ],
   "source": [
    "# Calculated the fitted values for training set\n",
    "y_fitted = lm.predict(X_train)\n",
    "\n",
    "# Calculated the RMSE and R^2 for training set\n",
    "print(sqrt(mean_squared_error(y_fitted, y_train)), '(Train RMSE)') # RMSE: the lower the better\n",
    "print((mean_absolute_error(y_fitted, y_train)), '(Train MAE)') # RMSE: the lower the better\n",
    "print(lm.score(X_train, y_train), '(Train R^2 Value)') # R squared value (ranges from 0 to 1): the higher the better"
   ]
  },
  {
   "cell_type": "code",
   "execution_count": 263,
   "metadata": {},
   "outputs": [
    {
     "name": "stdout",
     "output_type": "stream",
     "text": [
      "69.10089304054469 (Test RMSE)\n",
      "52.21112000431832 (Test MAE)\n",
      "0.42509035742726664 (Test R^2 Value)\n"
     ]
    }
   ],
   "source": [
    "# calculated the predicated value for testing data\n",
    "y_pred = lm.predict(X_test)\n",
    "\n",
    "# Calculated the RMSE and R^2 for testing set\n",
    "print(sqrt(mean_squared_error(y_pred, y_test)), '(Test RMSE)') # RMSE: the lower the better\n",
    "print((mean_absolute_error(y_pred, y_test)), '(Test MAE)') # RMSE: the lower the better\n",
    "print(lm.score(X_test, y_test), '(Test R^2 Value)') # R squared value (ranges from 0 to 1): the higher the better"
   ]
  },
  {
   "cell_type": "code",
   "execution_count": 264,
   "metadata": {
    "scrolled": true
   },
   "outputs": [
    {
     "name": "stdout",
     "output_type": "stream",
     "text": [
      "[CV] END .................................................... total time=   0.0s\n",
      "[CV] END .................................................... total time=   0.0s\n",
      "[CV] END .................................................... total time=   0.0s\n",
      "[CV] END .................................................... total time=   0.0s\n",
      "[CV] END .................................................... total time=   0.0s\n",
      "Avg Test score:  0.3577338253144207\n"
     ]
    },
    {
     "name": "stderr",
     "output_type": "stream",
     "text": [
      "[Parallel(n_jobs=1)]: Using backend SequentialBackend with 1 concurrent workers.\n",
      "[Parallel(n_jobs=1)]: Done   1 out of   1 | elapsed:    0.0s remaining:    0.0s\n",
      "[Parallel(n_jobs=1)]: Done   5 out of   5 | elapsed:    0.0s finished\n"
     ]
    }
   ],
   "source": [
    "scores = cross_validate(\n",
    "   lm,\n",
    "    list_X,\n",
    "    list_y,\n",
    "    cv=5,\n",
    "    scoring=['r2'],\n",
    "    verbose=2\n",
    ")\n",
    "print('Avg Test score: ',np.mean(scores['test_r2']))"
   ]
  },
  {
   "cell_type": "code",
   "execution_count": 265,
   "metadata": {},
   "outputs": [
    {
     "data": {
      "text/plain": [
       "{'copy_X': True,\n",
       " 'fit_intercept': True,\n",
       " 'n_jobs': None,\n",
       " 'normalize': 'deprecated',\n",
       " 'positive': False}"
      ]
     },
     "execution_count": 265,
     "metadata": {},
     "output_type": "execute_result"
    }
   ],
   "source": [
    "lm.get_params()"
   ]
  },
  {
   "cell_type": "code",
   "execution_count": 266,
   "metadata": {},
   "outputs": [
    {
     "name": "stdout",
     "output_type": "stream",
     "text": [
      "0.35845550185763253\n",
      "{'copy_X': True, 'fit_intercept': False, 'n_jobs': None, 'positive': False}\n"
     ]
    }
   ],
   "source": [
    "param_grid = {'copy_X': [True, False],\n",
    "              'fit_intercept': [True, False],\n",
    "              'n_jobs': [None, 10, 20],\n",
    "              #'normalize': 'deprecated',\n",
    "              'positive': [True, False]\n",
    "             }\n",
    "\n",
    "import warnings\n",
    "warnings.filterwarnings('ignore')\n",
    "\n",
    "gs = GridSearchCV(estimator=lm, param_grid=param_grid, scoring='r2', cv=5, n_jobs=-1)\n",
    "lm = LinearRegression()\n",
    "\n",
    "gs = gs.fit(list_X, list_y)\n",
    "\n",
    "print(gs.best_score_)\n",
    "print(gs.best_params_)\n",
    "#print(gs.cv_results_)"
   ]
  },
  {
   "cell_type": "code",
   "execution_count": 267,
   "metadata": {},
   "outputs": [
    {
     "name": "stdout",
     "output_type": "stream",
     "text": [
      "----Final Linear Regression Model----\n",
      "training accuracy is:  0.4068878713894635\n",
      "testing accuracy is:  0.4249895916750194\n"
     ]
    }
   ],
   "source": [
    "lm= LinearRegression(copy_X=True, fit_intercept=False, n_jobs=None, positive=False)\n",
    "lm.fit(X_train,y_train)\n",
    "\n",
    "print('----Final Linear Regression Model----')\n",
    "print('training accuracy is: ', lm.score(X_train,y_train))\n",
    "print('testing accuracy is: ', lm.score(X_test,y_test))"
   ]
  },
  {
   "cell_type": "markdown",
   "metadata": {},
   "source": [
    "### 2.3.2 Decision Tree Regression<a id=\"part2.3.2\"></a>\n",
    "[Back to top](#top)"
   ]
  },
  {
   "cell_type": "code",
   "execution_count": 268,
   "metadata": {},
   "outputs": [
    {
     "name": "stdout",
     "output_type": "stream",
     "text": [
      "0.0 (Train RMSE)\n",
      "0.0 (Train MAE)\n",
      "1.0 (Train R^2 Value)\n"
     ]
    }
   ],
   "source": [
    "# Calculated the fitted values for training set\n",
    "y_fitted = dtr.predict(X_train)\n",
    "\n",
    "# Calculated the RMSE and R^2 for training set\n",
    "print(sqrt(mean_squared_error(y_fitted, y_train)), '(Train RMSE)') # RMSE: the lower the better\n",
    "print((mean_absolute_error(y_fitted, y_train)), '(Train MAE)') # RMSE: the lower the better\n",
    "print(dtr.score(X_train, y_train), '(Train R^2 Value)') # R squared value (ranges from 0 to 1): the higher the better"
   ]
  },
  {
   "cell_type": "code",
   "execution_count": 269,
   "metadata": {},
   "outputs": [
    {
     "name": "stdout",
     "output_type": "stream",
     "text": [
      "70.99163193617615 (Test RMSE)\n",
      "45.26261762189906 (Test MAE)\n",
      "0.3931985748964475 (Test R^2 Value)\n"
     ]
    }
   ],
   "source": [
    "# calculated the predicated value for testing data\n",
    "y_pred = dtr.predict(X_test)\n",
    "\n",
    "# Calculated the RMSE and R^2 for testing set\n",
    "print(sqrt(mean_squared_error(y_pred, y_test)), '(Test RMSE)') # RMSE: the lower the better\n",
    "print((mean_absolute_error(y_pred, y_test)), '(Test MAE)') # RMSE: the lower the better\n",
    "print(dtr.score(X_test, y_test), '(Test R^2 Value)') # R squared value (ranges from 0 to 1): the higher the better"
   ]
  },
  {
   "cell_type": "code",
   "execution_count": 270,
   "metadata": {},
   "outputs": [
    {
     "name": "stdout",
     "output_type": "stream",
     "text": [
      "[CV] END .................................................... total time=   0.0s\n",
      "[CV] END .................................................... total time=   0.0s\n",
      "[CV] END .................................................... total time=   0.0s\n",
      "[CV] END .................................................... total time=   0.0s\n",
      "[CV] END .................................................... total time=   0.0s\n",
      "Avg Test score:  -0.006218581608356422\n"
     ]
    },
    {
     "name": "stderr",
     "output_type": "stream",
     "text": [
      "[Parallel(n_jobs=1)]: Using backend SequentialBackend with 1 concurrent workers.\n",
      "[Parallel(n_jobs=1)]: Done   1 out of   1 | elapsed:    0.0s remaining:    0.0s\n",
      "[Parallel(n_jobs=1)]: Done   5 out of   5 | elapsed:    0.1s finished\n"
     ]
    }
   ],
   "source": [
    "scores = cross_validate(\n",
    "   dtr,\n",
    "    list_X,\n",
    "    list_y,\n",
    "    cv=5,\n",
    "    scoring=['r2'],\n",
    "    verbose=2\n",
    ")\n",
    "print('Avg Test score: ',np.mean(scores['test_r2']))"
   ]
  },
  {
   "cell_type": "code",
   "execution_count": 271,
   "metadata": {},
   "outputs": [
    {
     "data": {
      "text/plain": [
       "{'ccp_alpha': 0.0,\n",
       " 'criterion': 'squared_error',\n",
       " 'max_depth': None,\n",
       " 'max_features': None,\n",
       " 'max_leaf_nodes': None,\n",
       " 'min_impurity_decrease': 0.0,\n",
       " 'min_samples_leaf': 1,\n",
       " 'min_samples_split': 2,\n",
       " 'min_weight_fraction_leaf': 0.0,\n",
       " 'random_state': None,\n",
       " 'splitter': 'best'}"
      ]
     },
     "execution_count": 271,
     "metadata": {},
     "output_type": "execute_result"
    }
   ],
   "source": [
    "dtr.get_params()"
   ]
  },
  {
   "cell_type": "code",
   "execution_count": 272,
   "metadata": {},
   "outputs": [
    {
     "name": "stdout",
     "output_type": "stream",
     "text": [
      "0.33254284073290374\n",
      "{'criterion': 'mse', 'max_depth': 5, 'max_features': 'auto', 'max_leaf_nodes': 90, 'min_samples_leaf': 2, 'min_weight_fraction_leaf': 0.1, 'splitter': 'random'}\n"
     ]
    }
   ],
   "source": [
    "param_grid = {\"max_depth\": np.arange(1,40), \n",
    "              'criterion':['mse','gini'],\n",
    "              \"splitter\":[\"best\",\"random\"],\n",
    "              \"min_samples_leaf\":[1,2,3,4,5,6,7,8,9,10],\n",
    "              \"min_weight_fraction_leaf\":[0.1,0.2,0.3,0.4,0.5,0.6,0.7,0.8,0.9],\n",
    "              \"max_features\":[\"auto\",\"log2\",\"sqrt\",None],\n",
    "              \"max_leaf_nodes\":[None,10,20,30,40,50,60,70,80,90]\n",
    "             }\n",
    "\n",
    "import warnings\n",
    "warnings.filterwarnings('ignore')\n",
    "\n",
    "gs = GridSearchCV(estimator=dtr, param_grid=param_grid, scoring='r2', cv=5, n_jobs=-1)\n",
    "dtr= DecisionTreeRegressor()\n",
    "\n",
    "gs = gs.fit(list_X, list_y)\n",
    "\n",
    "print(gs.best_score_)\n",
    "print(gs.best_params_)\n",
    "#print(gs.cv_results_)"
   ]
  },
  {
   "cell_type": "code",
   "execution_count": 273,
   "metadata": {},
   "outputs": [
    {
     "name": "stdout",
     "output_type": "stream",
     "text": [
      "----Final Decision Tree Regression Model----\n",
      "training accuracy is:  0.31133782989607195\n",
      "testing accuracy is:  0.3293933500448105\n"
     ]
    }
   ],
   "source": [
    "dtr= DecisionTreeRegressor(criterion='mse', max_depth=7, max_features = 'auto', max_leaf_nodes = 50,\n",
    "                           min_samples_leaf=5, min_weight_fraction_leaf=0.1, splitter='random')\n",
    "dtr.fit(X_train,y_train)\n",
    "\n",
    "print('----Final Decision Tree Regression Model----')\n",
    "print('training accuracy is: ', dtr.score(X_train,y_train))\n",
    "print('testing accuracy is: ', dtr.score(X_test,y_test))"
   ]
  },
  {
   "cell_type": "markdown",
   "metadata": {},
   "source": [
    "### 2.3.3 Random Forest Regressor<a id=\"part2.3.3\"></a>\n",
    "[Back to top](#top)"
   ]
  },
  {
   "cell_type": "code",
   "execution_count": 274,
   "metadata": {},
   "outputs": [
    {
     "name": "stdout",
     "output_type": "stream",
     "text": [
      "19.121075725947826 (Train RMSE)\n",
      "13.099658715596332 (Train MAE)\n",
      "0.9543073758993527 (Train R^2 Value)\n"
     ]
    }
   ],
   "source": [
    "# Calculated the fitted values for training set\n",
    "y_fitted = rfr.predict(X_train)\n",
    "\n",
    "# Calculated the RMSE and R^2 for training set\n",
    "print(sqrt(mean_squared_error(y_fitted, y_train)), '(Train RMSE)') # RMSE: the lower the better\n",
    "print((mean_absolute_error(y_fitted, y_train)), '(Train MAE)') # RMSE: the lower the better\n",
    "print(rfr.score(X_train, y_train), '(Train R^2 Value)') # R squared value (ranges from 0 to 1): the higher the better"
   ]
  },
  {
   "cell_type": "code",
   "execution_count": 275,
   "metadata": {},
   "outputs": [
    {
     "name": "stdout",
     "output_type": "stream",
     "text": [
      "49.889370978320514 (Test RMSE)\n",
      "34.500436270316506 (Test MAE)\n",
      "0.7003265076326524 (Test R^2 Value)\n"
     ]
    }
   ],
   "source": [
    "# calculated the predicated value for testing data\n",
    "y_pred = rfr.predict(X_test)\n",
    "\n",
    "# Calculated the RMSE and R^2 for testing set\n",
    "print(sqrt(mean_squared_error(y_pred, y_test)), '(Test RMSE)') # RMSE: the lower the better\n",
    "print((mean_absolute_error(y_pred, y_test)), '(Test MAE)') # RMSE: the lower the better\n",
    "print(rfr.score(X_test, y_test), '(Test R^2 Value)') # R squared value (ranges from 0 to 1): the higher the better"
   ]
  },
  {
   "cell_type": "code",
   "execution_count": 276,
   "metadata": {},
   "outputs": [
    {
     "name": "stderr",
     "output_type": "stream",
     "text": [
      "[Parallel(n_jobs=1)]: Using backend SequentialBackend with 1 concurrent workers.\n"
     ]
    },
    {
     "name": "stdout",
     "output_type": "stream",
     "text": [
      "[CV] END .................................................... total time=   1.8s\n"
     ]
    },
    {
     "name": "stderr",
     "output_type": "stream",
     "text": [
      "[Parallel(n_jobs=1)]: Done   1 out of   1 | elapsed:    1.8s remaining:    0.0s\n"
     ]
    },
    {
     "name": "stdout",
     "output_type": "stream",
     "text": [
      "[CV] END .................................................... total time=   1.9s\n",
      "[CV] END .................................................... total time=   1.9s\n",
      "[CV] END .................................................... total time=   1.8s\n",
      "[CV] END .................................................... total time=   1.9s\n",
      "Avg Test score:  0.4977624561179935\n"
     ]
    },
    {
     "name": "stderr",
     "output_type": "stream",
     "text": [
      "[Parallel(n_jobs=1)]: Done   5 out of   5 | elapsed:    9.8s finished\n"
     ]
    }
   ],
   "source": [
    "scores = cross_validate(\n",
    "   rfr,\n",
    "    list_X,\n",
    "    list_y,\n",
    "    cv=5,\n",
    "    scoring=['r2'],\n",
    "    verbose=2\n",
    ")\n",
    "print('Avg Test score: ',np.mean(scores['test_r2']))"
   ]
  },
  {
   "cell_type": "code",
   "execution_count": 277,
   "metadata": {},
   "outputs": [
    {
     "data": {
      "text/plain": [
       "{'bootstrap': True,\n",
       " 'ccp_alpha': 0.0,\n",
       " 'criterion': 'squared_error',\n",
       " 'max_depth': None,\n",
       " 'max_features': 'auto',\n",
       " 'max_leaf_nodes': None,\n",
       " 'max_samples': None,\n",
       " 'min_impurity_decrease': 0.0,\n",
       " 'min_samples_leaf': 1,\n",
       " 'min_samples_split': 2,\n",
       " 'min_weight_fraction_leaf': 0.0,\n",
       " 'n_estimators': 100,\n",
       " 'n_jobs': None,\n",
       " 'oob_score': False,\n",
       " 'random_state': None,\n",
       " 'verbose': 0,\n",
       " 'warm_start': False}"
      ]
     },
     "execution_count": 277,
     "metadata": {},
     "output_type": "execute_result"
    }
   ],
   "source": [
    "rfr.get_params()"
   ]
  },
  {
   "cell_type": "code",
   "execution_count": 278,
   "metadata": {},
   "outputs": [
    {
     "name": "stdout",
     "output_type": "stream",
     "text": [
      "0.50480345968158\n",
      "{'max_depth': 29, 'max_features': 'auto', 'n_estimators': 100}\n"
     ]
    }
   ],
   "source": [
    "param_grid = {'n_estimators' : [5,20,50,100], # number of trees in the random forest\n",
    "              'max_features' : ['auto', 'sqrt'], # number of features in consideration at every split\n",
    "              'max_depth' : np.arange(1,40), # maximum number of levels allowed in each decision tree\n",
    "             }\n",
    "\n",
    "import warnings\n",
    "warnings.filterwarnings('ignore')\n",
    "\n",
    "gs = GridSearchCV(estimator=rfr, param_grid=param_grid, scoring='r2', cv=5, n_jobs=-1)\n",
    "rfr= RandomForestRegressor()\n",
    "\n",
    "gs = gs.fit(list_X, list_y)\n",
    "\n",
    "print(gs.best_score_)\n",
    "print(gs.best_params_)\n",
    "#print(gs.cv_results_)"
   ]
  },
  {
   "cell_type": "code",
   "execution_count": 279,
   "metadata": {
    "scrolled": true
   },
   "outputs": [
    {
     "name": "stdout",
     "output_type": "stream",
     "text": [
      "----Final Random Forest Regressor Model----\n",
      "training accuracy is:  0.9525173250812982\n",
      "testing accuracy is:  0.7006625335197709\n"
     ]
    }
   ],
   "source": [
    "rfr= RandomForestRegressor(max_depth=18, max_features = 'auto', n_estimators = 100)\n",
    "rfr.fit(X_train,y_train)\n",
    "\n",
    "print('----Final Random Forest Regressor Model----')\n",
    "print('training accuracy is: ', rfr.score(X_train,y_train))\n",
    "print('testing accuracy is: ', rfr.score(X_test,y_test))\n"
   ]
  },
  {
   "cell_type": "markdown",
   "metadata": {},
   "source": [
    "### 2.3.4 XGBoost Regressor<a id=\"part2.3.4\"></a>\n",
    "[Back to top](#top)"
   ]
  },
  {
   "cell_type": "code",
   "execution_count": 286,
   "metadata": {},
   "outputs": [
    {
     "name": "stdout",
     "output_type": "stream",
     "text": [
      "12.453881019135816 (Train RMSE)\n",
      "8.561725308829491 (Train MAE)\n",
      "0.9806165587751946 (Train R^2 Value)\n"
     ]
    }
   ],
   "source": [
    "# Calculated the fitted values for training set\n",
    "y_fitted = xgbr.predict(X_train)\n",
    "\n",
    "# Calculated the RMSE and R^2 for training set\n",
    "print(sqrt(mean_squared_error(y_fitted, y_train)), '(Train RMSE)') # RMSE: the lower the better\n",
    "print((mean_absolute_error(y_fitted, y_train)), '(Train MAE)') # RMSE: the lower the better\n",
    "print(xgbr.score(X_train, y_train), '(Train R^2 Value)') # R squared value (ranges from 0 to 1): the higher the better"
   ]
  },
  {
   "cell_type": "code",
   "execution_count": 287,
   "metadata": {},
   "outputs": [
    {
     "name": "stdout",
     "output_type": "stream",
     "text": [
      "50.860640517130385 (Test RMSE)\n",
      "35.968491869772265 (Test MAE)\n",
      "0.688544558443047 (Test R^2 Value)\n"
     ]
    }
   ],
   "source": [
    "# calculated the predicated value for testing data\n",
    "y_pred = xgbr.predict(X_test)\n",
    "\n",
    "# Calculated the RMSE and R^2 for testing set\n",
    "print(sqrt(mean_squared_error(y_pred, y_test)), '(Test RMSE)') # RMSE: the lower the better\n",
    "print((mean_absolute_error(y_pred, y_test)), '(Test MAE)') # RMSE: the lower the better\n",
    "print(xgbr.score(X_test, y_test), '(Test R^2 Value)') # R squared value (ranges from 0 to 1): the higher the better"
   ]
  },
  {
   "cell_type": "code",
   "execution_count": 288,
   "metadata": {},
   "outputs": [
    {
     "name": "stderr",
     "output_type": "stream",
     "text": [
      "[Parallel(n_jobs=1)]: Using backend SequentialBackend with 1 concurrent workers.\n"
     ]
    },
    {
     "name": "stdout",
     "output_type": "stream",
     "text": [
      "[CV] END .................................................... total time=   0.2s\n"
     ]
    },
    {
     "name": "stderr",
     "output_type": "stream",
     "text": [
      "[Parallel(n_jobs=1)]: Done   1 out of   1 | elapsed:    0.2s remaining:    0.0s\n"
     ]
    },
    {
     "name": "stdout",
     "output_type": "stream",
     "text": [
      "[CV] END .................................................... total time=   0.2s\n",
      "[CV] END .................................................... total time=   0.2s\n",
      "[CV] END .................................................... total time=   0.2s\n",
      "[CV] END .................................................... total time=   0.2s\n",
      "Avg Test score:  0.4658107461072348\n"
     ]
    },
    {
     "name": "stderr",
     "output_type": "stream",
     "text": [
      "[Parallel(n_jobs=1)]: Done   5 out of   5 | elapsed:    1.2s finished\n"
     ]
    }
   ],
   "source": [
    "scores = cross_validate(\n",
    "   xgbr,\n",
    "    list_X,\n",
    "    list_y,\n",
    "    cv=5,\n",
    "    scoring=['r2'],\n",
    "    verbose=2\n",
    ")\n",
    "print('Avg Test score: ',np.mean(scores['test_r2']))"
   ]
  },
  {
   "cell_type": "code",
   "execution_count": 289,
   "metadata": {},
   "outputs": [
    {
     "data": {
      "text/plain": [
       "{'objective': 'reg:squarederror',\n",
       " 'base_score': 0.5,\n",
       " 'booster': 'gbtree',\n",
       " 'colsample_bylevel': 1,\n",
       " 'colsample_bynode': 1,\n",
       " 'colsample_bytree': 1,\n",
       " 'enable_categorical': False,\n",
       " 'gamma': 0,\n",
       " 'gpu_id': -1,\n",
       " 'importance_type': None,\n",
       " 'interaction_constraints': '',\n",
       " 'learning_rate': 0.300000012,\n",
       " 'max_delta_step': 0,\n",
       " 'max_depth': 6,\n",
       " 'min_child_weight': 1,\n",
       " 'missing': nan,\n",
       " 'monotone_constraints': '()',\n",
       " 'n_estimators': 100,\n",
       " 'n_jobs': 16,\n",
       " 'num_parallel_tree': 1,\n",
       " 'predictor': 'auto',\n",
       " 'random_state': 0,\n",
       " 'reg_alpha': 0,\n",
       " 'reg_lambda': 1,\n",
       " 'scale_pos_weight': 1,\n",
       " 'subsample': 1,\n",
       " 'tree_method': 'exact',\n",
       " 'validate_parameters': 1,\n",
       " 'verbosity': None}"
      ]
     },
     "execution_count": 289,
     "metadata": {},
     "output_type": "execute_result"
    }
   ],
   "source": [
    "xgbr.get_params()"
   ]
  },
  {
   "cell_type": "code",
   "execution_count": 290,
   "metadata": {},
   "outputs": [
    {
     "name": "stdout",
     "output_type": "stream",
     "text": [
      "0.5045194173100181\n",
      "{'gamma': 9, 'learning_rate': 0.05, 'max_depth': 8, 'verbosity': 1}\n"
     ]
    }
   ],
   "source": [
    "param_grid = {'verbosity' : [1,5], # number of trees in the random forest\n",
    "              'max_depth' : np.arange(1,40), # maximum number of levels allowed in each decision tree\n",
    "              'learning_rate': [0.1, 0.01, 0.05],\n",
    "              'gamma' : [1,9]\n",
    "             }\n",
    "\n",
    "import warnings\n",
    "warnings.filterwarnings('ignore')\n",
    "\n",
    "gs = GridSearchCV(estimator=xgbr, param_grid=param_grid, scoring='r2', cv=5, n_jobs=-1)\n",
    "xgbr= XGBRegressor()\n",
    "\n",
    "gs = gs.fit(list_X, list_y)\n",
    "\n",
    "print(gs.best_score_)\n",
    "print(gs.best_params_)\n",
    "#print(gs.cv_results_)"
   ]
  },
  {
   "cell_type": "code",
   "execution_count": 291,
   "metadata": {},
   "outputs": [
    {
     "name": "stdout",
     "output_type": "stream",
     "text": [
      "----Gradient Boost Regressor Model----\n",
      "training accuracy is:  0.9272450179230484\n",
      "testing accuracy is:  0.6996432097607477\n"
     ]
    }
   ],
   "source": [
    "xgbr= XGBRegressor(gamma=9, learning_rate=0.05, verbosity=1,max_depth=8)\n",
    "xgbr.fit(X_train,y_train)\n",
    "\n",
    "print('----Gradient Boost Regressor Model----')\n",
    "print('training accuracy is: ', xgbr.score(X_train,y_train))\n",
    "print('testing accuracy is: ', xgbr.score(X_test,y_test))"
   ]
  },
  {
   "cell_type": "code",
   "execution_count": null,
   "metadata": {},
   "outputs": [],
   "source": []
  }
 ],
 "metadata": {
  "kernelspec": {
   "display_name": "Python 3 (ipykernel)",
   "language": "python",
   "name": "python3"
  },
  "language_info": {
   "codemirror_mode": {
    "name": "ipython",
    "version": 3
   },
   "file_extension": ".py",
   "mimetype": "text/x-python",
   "name": "python",
   "nbconvert_exporter": "python",
   "pygments_lexer": "ipython3",
   "version": "3.10.11"
  }
 },
 "nbformat": 4,
 "nbformat_minor": 2
}
