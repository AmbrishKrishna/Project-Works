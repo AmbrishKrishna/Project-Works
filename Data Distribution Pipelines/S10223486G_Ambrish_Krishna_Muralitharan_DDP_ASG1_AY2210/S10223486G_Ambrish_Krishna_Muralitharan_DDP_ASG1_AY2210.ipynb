{
 "cells": [
  {
   "cell_type": "markdown",
   "metadata": {},
   "source": [
    "<table class=\"table table-bordered\">\n",
    "    <tr>\n",
    "        <th style=\"width:250px\"><img src='https://www.np.edu.sg/images/default-source/default-album/img-logo.png?sfvrsn=764583a6_0' style=\"width: 100%; height: 125px; \"></th>\n",
    "        <th style=\"text-align:center;\"><h1>Distributed Data Pipelines</h1><h2>Assignment 1 </h2><h3>Diploma in Data Science</h3></th>\n",
    "    </tr>\n",
    "</table>"
   ]
  },
  {
   "cell_type": "markdown",
   "metadata": {},
   "source": [
    "Learning Objectives:\n",
    "- Design PySpark Based Machine Learning\n",
    "- Execute PySpark Syntax Correctly\n",
    "- Evaluate and Select Final Model based on Metrics"
   ]
  },
  {
   "cell_type": "markdown",
   "metadata": {},
   "source": [
    "You will be **graded on the use of PySpark**, so usage of **Pandas itself should be avoided as much as possible**, especially if a particular native method or function is already available in PySpark. **Penalties will be imposed in such cases.**"
   ]
  },
  {
   "cell_type": "markdown",
   "metadata": {},
   "source": [
    "# Distributed Data Pipelines ASG1, Ambrish Krishna Muralitharan, S10223486G<a id=\"top\"></a>"
   ]
  },
  {
   "cell_type": "markdown",
   "metadata": {},
   "source": [
    "## Table of Contents\n",
    "\n",
    "\n",
    "### 7.  [Report](#part7) \n",
    "   - [7.1 Problem Statement Formulation](#part7.1)\n",
    "   - [7.2 Exploratory Data Analysis and Data Cleansing](#part7.2)\n",
    "   - [7.3 Data Wrangling & Transformation](#part7.3)\n",
    "   - [4.4 Machine Learning Modelling](#part7.4)\n",
    "   - [4.5 Model Evaluation & Selection](#part7.5)\n",
    "   - [4.6 Summary & Further Improvements](#part7.6)"
   ]
  },
  {
   "cell_type": "code",
   "execution_count": 32,
   "metadata": {},
   "outputs": [],
   "source": [
    "# import the packages\n",
    "#Basic\n",
    "from pyspark.sql import SparkSession\n",
    "spark=SparkSession.builder.appName('ASG1').getOrCreate()\n",
    "\n",
    "#Functions\n",
    "from pyspark.sql.functions import col, isnan, when, count\n",
    "from pyspark.sql.functions import desc, asc, udf\n",
    "\n",
    "#Types\n",
    "from pyspark.sql.types import StringType\n",
    "\n",
    "#Matplotlib\n",
    "from matplotlib import pyplot as plt\n",
    "from pyspark.sql import *\n",
    "\n",
    "#Imputation\n",
    "from pyspark.ml.feature import Imputer\n",
    "from pyspark.ml.feature import Bucketizer\n",
    "\n",
    "#Categorical Encoding\n",
    "from pyspark.ml import Pipeline\n",
    "from pyspark.ml.feature import OneHotEncoder, StringIndexer\n",
    "\n",
    "#Feature Scaling\n",
    "from pyspark.ml.feature import VectorAssembler\n",
    "from pyspark.ml.feature import StandardScaler\n",
    "\n",
    "#Machine Learning\n",
    "from pyspark.ml.regression import LinearRegression"
   ]
  },
  {
   "cell_type": "markdown",
   "metadata": {},
   "source": [
    "### Step 1: Problem Statement Formulation"
   ]
  },
  {
   "cell_type": "code",
   "execution_count": 33,
   "metadata": {},
   "outputs": [],
   "source": [
    "# load and explore data\n",
    "df=spark.read.csv('./data/sg_flat_prices_mod.csv', header=True, inferSchema=True) # inferSchema auto detects data type"
   ]
  },
  {
   "cell_type": "code",
   "execution_count": 34,
   "metadata": {},
   "outputs": [
    {
     "name": "stdout",
     "output_type": "stream",
     "text": [
      "root\n",
      " |-- year: integer (nullable = true)\n",
      " |-- month: integer (nullable = true)\n",
      " |-- town: string (nullable = true)\n",
      " |-- flat_type: string (nullable = true)\n",
      " |-- block: string (nullable = true)\n",
      " |-- street_name: string (nullable = true)\n",
      " |-- storey_range: string (nullable = true)\n",
      " |-- floor_area_sqm: double (nullable = true)\n",
      " |-- flat_model: string (nullable = true)\n",
      " |-- lease_commence_date: integer (nullable = true)\n",
      " |-- remaining_lease: integer (nullable = true)\n",
      " |-- resale_price: double (nullable = true)\n",
      "\n"
     ]
    }
   ],
   "source": [
    "df.printSchema()"
   ]
  },
  {
   "cell_type": "code",
   "execution_count": 35,
   "metadata": {},
   "outputs": [
    {
     "name": "stdout",
     "output_type": "stream",
     "text": [
      "+----+-----+----------+---------+-----+-----------------+------------+--------------+--------------+-------------------+---------------+------------+\n",
      "|year|month|town      |flat_type|block|street_name      |storey_range|floor_area_sqm|flat_model    |lease_commence_date|remaining_lease|resale_price|\n",
      "+----+-----+----------+---------+-----+-----------------+------------+--------------+--------------+-------------------+---------------+------------+\n",
      "|2017|1    |ANG MO KIO|2 ROOM   |406  |ANG MO KIO AVE 10|10 TO 12    |44.0          |Improved      |1979               |736            |232000.0    |\n",
      "|2017|1    |ANG MO KIO|3 ROOM   |108  |ANG MO KIO AVE 4 |01 TO 03    |67.0          |New Generation|1978               |727            |250000.0    |\n",
      "|2017|1    |ANG MO KIO|3 ROOM   |602  |ANG MO KIO AVE 5 |01 TO 03    |67.0          |New Generation|1980               |749            |262000.0    |\n",
      "|2017|1    |ANG MO KIO|3 ROOM   |465  |ANG MO KIO AVE 10|04 TO 06    |68.0          |New Generation|1980               |745            |265000.0    |\n",
      "|2017|1    |ANG MO KIO|3 ROOM   |601  |ANG MO KIO AVE 5 |01 TO 03    |67.0          |New Generation|1980               |749            |265000.0    |\n",
      "|2017|1    |ANG MO KIO|3 ROOM   |150  |ANG MO KIO AVE 5 |01 TO 03    |68.0          |New Generation|1981               |756            |275000.0    |\n",
      "|2017|1    |ANG MO KIO|3 ROOM   |447  |ANG MO KIO AVE 10|04 TO 06    |68.0          |New Generation|1979               |738            |280000.0    |\n",
      "|2017|1    |ANG MO KIO|3 ROOM   |218  |ANG MO KIO AVE 1 |04 TO 06    |67.0          |New Generation|1976               |700            |285000.0    |\n",
      "|2017|1    |ANG MO KIO|3 ROOM   |447  |ANG MO KIO AVE 10|04 TO 06    |68.0          |New Generation|1979               |738            |285000.0    |\n",
      "|2017|1    |ANG MO KIO|3 ROOM   |571  |ANG MO KIO AVE 3 |01 TO 03    |67.0          |New Generation|1979               |736            |285000.0    |\n",
      "|2017|1    |ANG MO KIO|3 ROOM   |534  |ANG MO KIO AVE 10|01 TO 03    |68.0          |New Generation|1980               |745            |288500.0    |\n",
      "|2017|1    |ANG MO KIO|3 ROOM   |233  |ANG MO KIO AVE 3 |10 TO 12    |67.0          |New Generation|1977               |716            |295000.0    |\n",
      "|2017|1    |ANG MO KIO|3 ROOM   |235  |ANG MO KIO AVE 3 |04 TO 06    |67.0          |New Generation|1977               |716            |295000.0    |\n",
      "|2017|1    |ANG MO KIO|3 ROOM   |219  |ANG MO KIO AVE 1 |07 TO 09    |67.0          |New Generation|1977               |714            |297000.0    |\n",
      "|2017|1    |ANG MO KIO|3 ROOM   |536  |ANG MO KIO AVE 10|07 TO 09    |68.0          |New Generation|1980               |745            |298000.0    |\n",
      "|2017|1    |ANG MO KIO|3 ROOM   |230  |ANG MO KIO AVE 3 |04 TO 06    |67.0          |New Generation|1978               |720            |298000.0    |\n",
      "|2017|1    |ANG MO KIO|3 ROOM   |570  |ANG MO KIO AVE 3 |10 TO 12    |67.0          |New Generation|1979               |736            |300000.0    |\n",
      "|2017|1    |ANG MO KIO|3 ROOM   |624  |ANG MO KIO AVE 4 |04 TO 06    |68.0          |New Generation|1980               |752            |301000.0    |\n",
      "|2017|1    |ANG MO KIO|3 ROOM   |441  |ANG MO KIO AVE 10|07 TO 09    |67.0          |New Generation|1979               |732            |306000.0    |\n",
      "|2017|1    |ANG MO KIO|3 ROOM   |625  |ANG MO KIO AVE 9 |04 TO 06    |68.0          |New Generation|1980               |752            |312000.0    |\n",
      "+----+-----+----------+---------+-----+-----------------+------------+--------------+--------------+-------------------+---------------+------------+\n",
      "only showing top 20 rows\n",
      "\n"
     ]
    }
   ],
   "source": [
    "df.show(truncate=False)"
   ]
  },
  {
   "cell_type": "code",
   "execution_count": 36,
   "metadata": {},
   "outputs": [
    {
     "name": "stdout",
     "output_type": "stream",
     "text": [
      "Shape of the dataset:  (64247, 12)\n"
     ]
    }
   ],
   "source": [
    "# Shape of the dataset\n",
    "print('Shape of the dataset: ', (df.count(), len(df.columns)))"
   ]
  },
  {
   "cell_type": "code",
   "execution_count": 37,
   "metadata": {
    "scrolled": true
   },
   "outputs": [
    {
     "name": "stdout",
     "output_type": "stream",
     "text": [
      "+-------+------------------+------------------+----------+----------------+------------------+------------+------------+\n",
      "|summary|              year|             month|      town|       flat_type|             block| street_name|storey_range|\n",
      "+-------+------------------+------------------+----------+----------------+------------------+------------+------------+\n",
      "|  count|             64247|             64247|     64247|           64247|             64247|       64247|       64247|\n",
      "|   mean|2018.0262424704656| 6.779133656046197|      null|            null| 349.4635640052788|        null|        null|\n",
      "| stddev|0.8146939469668695|3.2635673352950514|      null|            null|254.80560486394563|        null|        null|\n",
      "|    min|              2017|                 1|ANG MO KIO|          1 ROOM|                 1|ADMIRALTY DR|    01 TO 03|\n",
      "|    max|              2019|                12|    YISHUN|MULTI-GENERATION|                9B|     ZION RD|    49 TO 51|\n",
      "+-------+------------------+------------------+----------+----------------+------------------+------------+------------+\n",
      "\n"
     ]
    }
   ],
   "source": [
    "df.describe('year', 'month', 'town', 'flat_type', 'block', 'street_name', 'storey_range').show()"
   ]
  },
  {
   "cell_type": "code",
   "execution_count": 38,
   "metadata": {},
   "outputs": [
    {
     "name": "stdout",
     "output_type": "stream",
     "text": [
      "+-------+-----------------+-------------+-------------------+------------------+------------------+\n",
      "|summary|   floor_area_sqm|   flat_model|lease_commence_date|   remaining_lease|      resale_price|\n",
      "+-------+-----------------+-------------+-------------------+------------------+------------------+\n",
      "|  count|            64197|        64247|              64247|             64247|             64247|\n",
      "|   mean|97.77009984890256|         null| 1993.6012420813422| 894.6413840334957|438943.70469516085|\n",
      "| stddev|24.26994610142912|         null| 12.465629502278013|149.62669792791093|153760.65294972394|\n",
      "|    min|             31.0|Adjoined flat|               1966|               553|          150000.0|\n",
      "|    max|            249.0|      Type S2|               2016|              1160|         1205000.0|\n",
      "+-------+-----------------+-------------+-------------------+------------------+------------------+\n",
      "\n"
     ]
    }
   ],
   "source": [
    "df.describe('floor_area_sqm', 'flat_model', 'lease_commence_date', 'remaining_lease', 'resale_price').show()"
   ]
  },
  {
   "cell_type": "markdown",
   "metadata": {},
   "source": [
    "### Step 2: Exploratory Data Analysis and Data Cleansing"
   ]
  },
  {
   "cell_type": "code",
   "execution_count": 39,
   "metadata": {},
   "outputs": [
    {
     "name": "stdout",
     "output_type": "stream",
     "text": [
      "+----+-----+----+---------+-----+-----------+------------+--------------+----------+-------------------+---------------+------------+\n",
      "|year|month|town|flat_type|block|street_name|storey_range|floor_area_sqm|flat_model|lease_commence_date|remaining_lease|resale_price|\n",
      "+----+-----+----+---------+-----+-----------+------------+--------------+----------+-------------------+---------------+------------+\n",
      "|   0|    0|   0|        0|    0|          0|           0|            50|         0|                  0|              0|           0|\n",
      "+----+-----+----+---------+-----+-----------+------------+--------------+----------+-------------------+---------------+------------+\n",
      "\n"
     ]
    }
   ],
   "source": [
    "# consider NaN Treatment\n",
    "# show null value count in each column\n",
    "df.select([count(when(isnan(c) | col(c).isNull(), c)).alias(c) for c in df.columns]).show()"
   ]
  },
  {
   "cell_type": "code",
   "execution_count": 40,
   "metadata": {},
   "outputs": [
    {
     "name": "stdout",
     "output_type": "stream",
     "text": [
      "+----+-----+---------------+---------+-----+------------------+------------+--------------+----------+-------------------+---------------+------------+\n",
      "|year|month|           town|flat_type|block|       street_name|storey_range|floor_area_sqm|flat_model|lease_commence_date|remaining_lease|resale_price|\n",
      "+----+-----+---------------+---------+-----+------------------+------------+--------------+----------+-------------------+---------------+------------+\n",
      "|2017|    3|     QUEENSTOWN|   4 ROOM|  161|       MEI LING ST|    19 TO 21|          null|  Improved|               1970|            628|    556000.0|\n",
      "|2017|    3|      TOA PAYOH|   4 ROOM|  220|   LOR 8 TOA PAYOH|    16 TO 18|          null|  Improved|               1976|            698|    383000.0|\n",
      "|2017|    3|      TOA PAYOH|   4 ROOM|  213|   LOR 8 TOA PAYOH|    16 TO 18|          null|  Improved|               1975|            683|    390000.0|\n",
      "|2017|    3|      TOA PAYOH|   4 ROOM|  204|     TOA PAYOH NTH|    13 TO 15|          null|  Improved|               1973|            664|    420000.0|\n",
      "|2017|    3|      TOA PAYOH|   4 ROOM|  208|     TOA PAYOH NTH|    07 TO 09|          null|  Improved|               1973|            664|    420000.0|\n",
      "|2017|    4|          BEDOK|   4 ROOM|   37|   BEDOK STH AVE 2|    01 TO 03|          null|  Improved|               1977|            713|    320000.0|\n",
      "|2017|    4|          BEDOK|   4 ROOM|   41|      BEDOK STH RD|    04 TO 06|          null|  Improved|               1977|            713|    352000.0|\n",
      "|2017|    4|          BEDOK|   4 ROOM|   44|      BEDOK STH RD|    07 TO 09|          null|  Improved|               1977|            713|    365000.0|\n",
      "|2017|    4|          BEDOK|   4 ROOM|   44|      BEDOK STH RD|    13 TO 15|          null|  Improved|               1977|            713|    385000.0|\n",
      "|2017|    4|    BUKIT MERAH|   4 ROOM|  120|     BT MERAH VIEW|    04 TO 06|          null|  Improved|               1973|            657|    420000.0|\n",
      "|2017|    4|    BUKIT MERAH|   4 ROOM|   40|TELOK BLANGAH RISE|    10 TO 12|          null|  Improved|               1976|            696|    435000.0|\n",
      "|2017|    4|    BUKIT MERAH|   4 ROOM|   40|TELOK BLANGAH RISE|    10 TO 12|          null|  Improved|               1976|            696|    490000.0|\n",
      "|2017|    4|   CENTRAL AREA|   4 ROOM|  232|           BAIN ST|    10 TO 12|          null|  Improved|               1980|            745|    640000.0|\n",
      "|2017|    4|KALLANG/WHAMPOA|   4 ROOM|   96|        WHAMPOA DR|    07 TO 09|          null|  Improved|               1974|            669|    380000.0|\n",
      "|2018|    4|  MARINE PARADE|   4 ROOM|   18|        MARINE TER|    07 TO 09|          null|  Improved|               1975|            671|    525000.0|\n",
      "|2018|    4|  MARINE PARADE|   4 ROOM|   54|        MARINE TER|    10 TO 12|          null|  Improved|               1975|            670|    530000.0|\n",
      "|2018|    4|  MARINE PARADE|   4 ROOM|   63|         MARINE DR|    10 TO 12|          null|  Improved|               1976|            682|    547000.0|\n",
      "|2018|    4|     QUEENSTOWN|   4 ROOM|  160|       MEI LING ST|    13 TO 15|          null|  Improved|               1970|            615|    468888.0|\n",
      "|2018|    4|     QUEENSTOWN|   4 ROOM|  160|       MEI LING ST|    13 TO 15|          null|  Improved|               1970|            615|    495000.0|\n",
      "|2018|    4|      TOA PAYOH|   4 ROOM|  222|   LOR 8 TOA PAYOH|    04 TO 06|          null|  Improved|               1976|            684|    325000.0|\n",
      "+----+-----+---------------+---------+-----+------------------+------------+--------------+----------+-------------------+---------------+------------+\n",
      "only showing top 20 rows\n",
      "\n"
     ]
    }
   ],
   "source": [
    "# filter and show rows with NaNs\n",
    "df1 = df.filter(df.floor_area_sqm.isNull())\n",
    "df1.show()"
   ]
  },
  {
   "cell_type": "code",
   "execution_count": 41,
   "metadata": {},
   "outputs": [
    {
     "data": {
      "text/plain": [
       "[Row(flat_type='4 ROOM')]"
      ]
     },
     "execution_count": 41,
     "metadata": {},
     "output_type": "execute_result"
    }
   ],
   "source": [
    "#Type of flats that have null values\n",
    "df1.select('flat_type').distinct().collect()"
   ]
  },
  {
   "cell_type": "code",
   "execution_count": 42,
   "metadata": {},
   "outputs": [
    {
     "data": {
      "text/plain": [
       "[Row(Town='QUEENSTOWN'),\n",
       " Row(Town='BEDOK'),\n",
       " Row(Town='WOODLANDS'),\n",
       " Row(Town='BUKIT MERAH'),\n",
       " Row(Town='TOA PAYOH'),\n",
       " Row(Town='KALLANG/WHAMPOA'),\n",
       " Row(Town='MARINE PARADE'),\n",
       " Row(Town='CENTRAL AREA')]"
      ]
     },
     "execution_count": 42,
     "metadata": {},
     "output_type": "execute_result"
    }
   ],
   "source": [
    "#The towns that have null values\n",
    "df1.select('Town').distinct().collect()"
   ]
  },
  {
   "cell_type": "code",
   "execution_count": 43,
   "metadata": {},
   "outputs": [
    {
     "data": {
      "text/plain": [
       "[Row(flat_model='Improved')]"
      ]
     },
     "execution_count": 43,
     "metadata": {},
     "output_type": "execute_result"
    }
   ],
   "source": [
    "#The flat models that have null values\n",
    "df1.select('flat_model').distinct().collect()"
   ]
  },
  {
   "cell_type": "code",
   "execution_count": 44,
   "metadata": {},
   "outputs": [],
   "source": [
    "#setting up imputer for replacement of null values with mean\n",
    "imputer = Imputer(\n",
    "    inputCols=['floor_area_sqm'], \n",
    "    outputCols=[\"{}_imputed\".format(c) for c in ['floor_area_sqm']]\n",
    "    ).setStrategy(\"mean\")"
   ]
  },
  {
   "cell_type": "code",
   "execution_count": 45,
   "metadata": {},
   "outputs": [
    {
     "name": "stdout",
     "output_type": "stream",
     "text": [
      "+----+-----+----------+---------+-----+-----------------+------------+--------------+--------------+-------------------+---------------+------------+----------------------+\n",
      "|year|month|      town|flat_type|block|      street_name|storey_range|floor_area_sqm|    flat_model|lease_commence_date|remaining_lease|resale_price|floor_area_sqm_imputed|\n",
      "+----+-----+----------+---------+-----+-----------------+------------+--------------+--------------+-------------------+---------------+------------+----------------------+\n",
      "|2017|    1|ANG MO KIO|   2 ROOM|  406|ANG MO KIO AVE 10|    10 TO 12|          44.0|      Improved|               1979|            736|    232000.0|                  44.0|\n",
      "|2017|    1|ANG MO KIO|   3 ROOM|  108| ANG MO KIO AVE 4|    01 TO 03|          67.0|New Generation|               1978|            727|    250000.0|                  67.0|\n",
      "|2017|    1|ANG MO KIO|   3 ROOM|  602| ANG MO KIO AVE 5|    01 TO 03|          67.0|New Generation|               1980|            749|    262000.0|                  67.0|\n",
      "|2017|    1|ANG MO KIO|   3 ROOM|  465|ANG MO KIO AVE 10|    04 TO 06|          68.0|New Generation|               1980|            745|    265000.0|                  68.0|\n",
      "|2017|    1|ANG MO KIO|   3 ROOM|  601| ANG MO KIO AVE 5|    01 TO 03|          67.0|New Generation|               1980|            749|    265000.0|                  67.0|\n",
      "|2017|    1|ANG MO KIO|   3 ROOM|  150| ANG MO KIO AVE 5|    01 TO 03|          68.0|New Generation|               1981|            756|    275000.0|                  68.0|\n",
      "|2017|    1|ANG MO KIO|   3 ROOM|  447|ANG MO KIO AVE 10|    04 TO 06|          68.0|New Generation|               1979|            738|    280000.0|                  68.0|\n",
      "|2017|    1|ANG MO KIO|   3 ROOM|  218| ANG MO KIO AVE 1|    04 TO 06|          67.0|New Generation|               1976|            700|    285000.0|                  67.0|\n",
      "|2017|    1|ANG MO KIO|   3 ROOM|  447|ANG MO KIO AVE 10|    04 TO 06|          68.0|New Generation|               1979|            738|    285000.0|                  68.0|\n",
      "|2017|    1|ANG MO KIO|   3 ROOM|  571| ANG MO KIO AVE 3|    01 TO 03|          67.0|New Generation|               1979|            736|    285000.0|                  67.0|\n",
      "|2017|    1|ANG MO KIO|   3 ROOM|  534|ANG MO KIO AVE 10|    01 TO 03|          68.0|New Generation|               1980|            745|    288500.0|                  68.0|\n",
      "|2017|    1|ANG MO KIO|   3 ROOM|  233| ANG MO KIO AVE 3|    10 TO 12|          67.0|New Generation|               1977|            716|    295000.0|                  67.0|\n",
      "|2017|    1|ANG MO KIO|   3 ROOM|  235| ANG MO KIO AVE 3|    04 TO 06|          67.0|New Generation|               1977|            716|    295000.0|                  67.0|\n",
      "|2017|    1|ANG MO KIO|   3 ROOM|  219| ANG MO KIO AVE 1|    07 TO 09|          67.0|New Generation|               1977|            714|    297000.0|                  67.0|\n",
      "|2017|    1|ANG MO KIO|   3 ROOM|  536|ANG MO KIO AVE 10|    07 TO 09|          68.0|New Generation|               1980|            745|    298000.0|                  68.0|\n",
      "|2017|    1|ANG MO KIO|   3 ROOM|  230| ANG MO KIO AVE 3|    04 TO 06|          67.0|New Generation|               1978|            720|    298000.0|                  67.0|\n",
      "|2017|    1|ANG MO KIO|   3 ROOM|  570| ANG MO KIO AVE 3|    10 TO 12|          67.0|New Generation|               1979|            736|    300000.0|                  67.0|\n",
      "|2017|    1|ANG MO KIO|   3 ROOM|  624| ANG MO KIO AVE 4|    04 TO 06|          68.0|New Generation|               1980|            752|    301000.0|                  68.0|\n",
      "|2017|    1|ANG MO KIO|   3 ROOM|  441|ANG MO KIO AVE 10|    07 TO 09|          67.0|New Generation|               1979|            732|    306000.0|                  67.0|\n",
      "|2017|    1|ANG MO KIO|   3 ROOM|  625| ANG MO KIO AVE 9|    04 TO 06|          68.0|New Generation|               1980|            752|    312000.0|                  68.0|\n",
      "+----+-----+----------+---------+-----+-----------------+------------+--------------+--------------+-------------------+---------------+------------+----------------------+\n",
      "only showing top 20 rows\n",
      "\n"
     ]
    }
   ],
   "source": [
    "# Add imputation cols to df\n",
    "df_cleaned = imputer.fit(df).transform(df)\n",
    "df_cleaned.show()"
   ]
  },
  {
   "cell_type": "code",
   "execution_count": 46,
   "metadata": {},
   "outputs": [
    {
     "name": "stdout",
     "output_type": "stream",
     "text": [
      "+----+-----+----+---------+-----+-----------+------------+--------------+----------+-------------------+---------------+------------+----------------------+\n",
      "|year|month|town|flat_type|block|street_name|storey_range|floor_area_sqm|flat_model|lease_commence_date|remaining_lease|resale_price|floor_area_sqm_imputed|\n",
      "+----+-----+----+---------+-----+-----------+------------+--------------+----------+-------------------+---------------+------------+----------------------+\n",
      "|   0|    0|   0|        0|    0|          0|           0|            50|         0|                  0|              0|           0|                     0|\n",
      "+----+-----+----+---------+-----+-----------+------------+--------------+----------+-------------------+---------------+------------+----------------------+\n",
      "\n"
     ]
    }
   ],
   "source": [
    "# consider NaN Treatment\n",
    "# show null value count in each column\n",
    "df_cleaned.select([count(when(isnan(c) | col(c).isNull(), c)).alias(c) for c in df_cleaned.columns]).show()"
   ]
  },
  {
   "cell_type": "code",
   "execution_count": 47,
   "metadata": {},
   "outputs": [],
   "source": [
    "df_cleaned = df_cleaned.drop('floor_area_sqm')"
   ]
  },
  {
   "cell_type": "code",
   "execution_count": 48,
   "metadata": {
    "scrolled": false
   },
   "outputs": [
    {
     "name": "stdout",
     "output_type": "stream",
     "text": [
      "root\n",
      " |-- year: integer (nullable = true)\n",
      " |-- month: integer (nullable = true)\n",
      " |-- town: string (nullable = true)\n",
      " |-- flat_type: string (nullable = true)\n",
      " |-- block: string (nullable = true)\n",
      " |-- street_name: string (nullable = true)\n",
      " |-- storey_range: string (nullable = true)\n",
      " |-- flat_model: string (nullable = true)\n",
      " |-- lease_commence_date: integer (nullable = true)\n",
      " |-- remaining_lease: integer (nullable = true)\n",
      " |-- resale_price: double (nullable = true)\n",
      " |-- floor_area_sqm_imputed: double (nullable = true)\n",
      "\n"
     ]
    }
   ],
   "source": [
    "df_cleaned.printSchema()"
   ]
  },
  {
   "cell_type": "code",
   "execution_count": 49,
   "metadata": {},
   "outputs": [
    {
     "name": "stdout",
     "output_type": "stream",
     "text": [
      "+----+-----+----------+---------+-----+-----------------+------------+--------------+-------------------+---------------+------------+----------------------+------------------+\n",
      "|year|month|      town|flat_type|block|      street_name|storey_range|    flat_model|lease_commence_date|remaining_lease|resale_price|floor_area_sqm_imputed|     price_per_sqm|\n",
      "+----+-----+----------+---------+-----+-----------------+------------+--------------+-------------------+---------------+------------+----------------------+------------------+\n",
      "|2017|    1|ANG MO KIO|   2 ROOM|  406|ANG MO KIO AVE 10|    10 TO 12|      Improved|               1979|            736|    232000.0|                  44.0| 5272.727272727273|\n",
      "|2017|    1|ANG MO KIO|   3 ROOM|  108| ANG MO KIO AVE 4|    01 TO 03|New Generation|               1978|            727|    250000.0|                  67.0|3731.3432835820895|\n",
      "|2017|    1|ANG MO KIO|   3 ROOM|  602| ANG MO KIO AVE 5|    01 TO 03|New Generation|               1980|            749|    262000.0|                  67.0|3910.4477611940297|\n",
      "|2017|    1|ANG MO KIO|   3 ROOM|  465|ANG MO KIO AVE 10|    04 TO 06|New Generation|               1980|            745|    265000.0|                  68.0|3897.0588235294117|\n",
      "|2017|    1|ANG MO KIO|   3 ROOM|  601| ANG MO KIO AVE 5|    01 TO 03|New Generation|               1980|            749|    265000.0|                  67.0| 3955.223880597015|\n",
      "|2017|    1|ANG MO KIO|   3 ROOM|  150| ANG MO KIO AVE 5|    01 TO 03|New Generation|               1981|            756|    275000.0|                  68.0|4044.1176470588234|\n",
      "|2017|    1|ANG MO KIO|   3 ROOM|  447|ANG MO KIO AVE 10|    04 TO 06|New Generation|               1979|            738|    280000.0|                  68.0|  4117.64705882353|\n",
      "|2017|    1|ANG MO KIO|   3 ROOM|  218| ANG MO KIO AVE 1|    04 TO 06|New Generation|               1976|            700|    285000.0|                  67.0| 4253.731343283582|\n",
      "|2017|    1|ANG MO KIO|   3 ROOM|  447|ANG MO KIO AVE 10|    04 TO 06|New Generation|               1979|            738|    285000.0|                  68.0| 4191.176470588235|\n",
      "|2017|    1|ANG MO KIO|   3 ROOM|  571| ANG MO KIO AVE 3|    01 TO 03|New Generation|               1979|            736|    285000.0|                  67.0| 4253.731343283582|\n",
      "|2017|    1|ANG MO KIO|   3 ROOM|  534|ANG MO KIO AVE 10|    01 TO 03|New Generation|               1980|            745|    288500.0|                  68.0|  4242.64705882353|\n",
      "|2017|    1|ANG MO KIO|   3 ROOM|  233| ANG MO KIO AVE 3|    10 TO 12|New Generation|               1977|            716|    295000.0|                  67.0| 4402.985074626866|\n",
      "|2017|    1|ANG MO KIO|   3 ROOM|  235| ANG MO KIO AVE 3|    04 TO 06|New Generation|               1977|            716|    295000.0|                  67.0| 4402.985074626866|\n",
      "|2017|    1|ANG MO KIO|   3 ROOM|  219| ANG MO KIO AVE 1|    07 TO 09|New Generation|               1977|            714|    297000.0|                  67.0| 4432.835820895522|\n",
      "|2017|    1|ANG MO KIO|   3 ROOM|  536|ANG MO KIO AVE 10|    07 TO 09|New Generation|               1980|            745|    298000.0|                  68.0|  4382.35294117647|\n",
      "|2017|    1|ANG MO KIO|   3 ROOM|  230| ANG MO KIO AVE 3|    04 TO 06|New Generation|               1978|            720|    298000.0|                  67.0| 4447.761194029851|\n",
      "|2017|    1|ANG MO KIO|   3 ROOM|  570| ANG MO KIO AVE 3|    10 TO 12|New Generation|               1979|            736|    300000.0|                  67.0| 4477.611940298508|\n",
      "|2017|    1|ANG MO KIO|   3 ROOM|  624| ANG MO KIO AVE 4|    04 TO 06|New Generation|               1980|            752|    301000.0|                  68.0| 4426.470588235294|\n",
      "|2017|    1|ANG MO KIO|   3 ROOM|  441|ANG MO KIO AVE 10|    07 TO 09|New Generation|               1979|            732|    306000.0|                  67.0| 4567.164179104478|\n",
      "|2017|    1|ANG MO KIO|   3 ROOM|  625| ANG MO KIO AVE 9|    04 TO 06|New Generation|               1980|            752|    312000.0|                  68.0| 4588.235294117647|\n",
      "+----+-----+----------+---------+-----+-----------------+------------+--------------+-------------------+---------------+------------+----------------------+------------------+\n",
      "only showing top 20 rows\n",
      "\n"
     ]
    }
   ],
   "source": [
    "#Create new column \"Price per sqm\"\n",
    "\n",
    "df3 = df_cleaned.withColumn(\"price_per_sqm\", (df_cleaned.resale_price / df_cleaned.floor_area_sqm_imputed))\n",
    "df3.show()"
   ]
  },
  {
   "cell_type": "code",
   "execution_count": 50,
   "metadata": {
    "scrolled": false
   },
   "outputs": [
    {
     "name": "stdout",
     "output_type": "stream",
     "text": [
      "root\n",
      " |-- year: integer (nullable = true)\n",
      " |-- month: integer (nullable = true)\n",
      " |-- town: string (nullable = true)\n",
      " |-- flat_type: string (nullable = true)\n",
      " |-- block: string (nullable = true)\n",
      " |-- street_name: string (nullable = true)\n",
      " |-- storey_range: string (nullable = true)\n",
      " |-- flat_model: string (nullable = true)\n",
      " |-- lease_commence_date: integer (nullable = true)\n",
      " |-- remaining_lease: integer (nullable = true)\n",
      " |-- resale_price: double (nullable = true)\n",
      " |-- floor_area_sqm_imputed: double (nullable = true)\n",
      " |-- price_per_sqm: double (nullable = true)\n",
      "\n"
     ]
    }
   ],
   "source": [
    "df3.printSchema()"
   ]
  },
  {
   "cell_type": "code",
   "execution_count": 51,
   "metadata": {},
   "outputs": [
    {
     "name": "stdout",
     "output_type": "stream",
     "text": [
      "+----+-----+\n",
      "|year|count|\n",
      "+----+-----+\n",
      "|2017|20500|\n",
      "|2018|21561|\n",
      "|2019|22186|\n",
      "+----+-----+\n",
      "\n"
     ]
    }
   ],
   "source": [
    "popular_flat_df = df3.select('year', 'flat_type')\n",
    "popular_flat_df = popular_flat_df.groupBy('year').count()\n",
    "popular_flat_df.sort(asc('year')).show()"
   ]
  },
  {
   "cell_type": "code",
   "execution_count": 52,
   "metadata": {},
   "outputs": [
    {
     "name": "stdout",
     "output_type": "stream",
     "text": [
      "+----+---------+-----+\n",
      "|year|flat_type|count|\n",
      "+----+---------+-----+\n",
      "|2019|   4 ROOM| 9228|\n",
      "|2018|   4 ROOM| 8769|\n",
      "|2017|   4 ROOM| 8595|\n",
      "+----+---------+-----+\n",
      "only showing top 3 rows\n",
      "\n"
     ]
    }
   ],
   "source": [
    "#most popular type of flat for each year\n",
    "df3.groupBy('year','flat_type').count().select(['year','flat_type','count']).sort(desc('count')).show(3)"
   ]
  },
  {
   "cell_type": "code",
   "execution_count": 53,
   "metadata": {},
   "outputs": [
    {
     "name": "stdout",
     "output_type": "stream",
     "text": [
      "+-----+----+------------------+\n",
      "|month|year| avg(resale_price)|\n",
      "+-----+----+------------------+\n",
      "|    3|2018|457069.77033492824|\n",
      "|    9|2017|452715.63333333336|\n",
      "|   12|2017|449859.98738170345|\n",
      "|    5|2018| 448849.0189655172|\n",
      "|    6|2017| 448502.0360618203|\n",
      "|    4|2018| 448189.2339499456|\n",
      "|    2|2017| 447659.2294172063|\n",
      "|    1|2018|446379.56623134325|\n",
      "|    8|2017|445079.46530612244|\n",
      "|    3|2017|445029.89694167103|\n",
      "|    7|2018| 444896.9440724695|\n",
      "|    5|2017| 443789.3212121212|\n",
      "|   10|2017| 443583.7658263305|\n",
      "|    2|2018|443147.78360101435|\n",
      "|   11|2017|443040.18478787877|\n",
      "|    6|2018|442732.18329113926|\n",
      "|    8|2018| 441601.1750749879|\n",
      "|    7|2017|438739.63033707865|\n",
      "|    4|2017| 438629.2722349103|\n",
      "|   11|2019| 434429.5716649215|\n",
      "|    7|2019| 434089.4914285714|\n",
      "|    9|2018| 433734.4224836272|\n",
      "|    5|2019| 433599.3990338164|\n",
      "|    3|2019| 433256.5438596491|\n",
      "|    8|2019| 432779.7465194532|\n",
      "|    9|2019| 432455.4672131148|\n",
      "|    6|2019|431988.53768577497|\n",
      "|   12|2019|431583.52705627703|\n",
      "|    4|2019| 431445.1550913838|\n",
      "|   10|2018| 430989.1576305221|\n",
      "|   10|2019| 430003.2615593835|\n",
      "|   11|2018|429925.48177920684|\n",
      "|    1|2019|429810.53612903226|\n",
      "|    2|2019| 428894.0966257669|\n",
      "|   12|2018|427750.73647224176|\n",
      "|    1|2017|426538.97711864405|\n",
      "+-----+----+------------------+\n",
      "\n"
     ]
    }
   ],
   "source": [
    "resale_time_df = df3.select('year', 'month', 'resale_price')\n",
    "resale_time_shown_df = resale_time_df.groupBy(('month'),(resale_time_df['year'])).mean('resale_price')\n",
    "resale_time_shown_df = resale_time_shown_df.sort(desc('avg(resale_price)'))\n",
    "resale_time_shown_df.show(36)"
   ]
  },
  {
   "cell_type": "code",
   "execution_count": 54,
   "metadata": {
    "scrolled": true
   },
   "outputs": [
    {
     "name": "stdout",
     "output_type": "stream",
     "text": [
      "+-------------+---------+------------------+\n",
      "|         Town|flat_type| avg(resale_price)|\n",
      "+-------------+---------+------------------+\n",
      "|  BUKIT MERAH|   1 ROOM| 186181.6551724138|\n",
      "|      GEYLANG|   2 ROOM|        202859.375|\n",
      "|    TOA PAYOH|   2 ROOM|207133.48387096773|\n",
      "|MARINE PARADE|   2 ROOM|          209000.0|\n",
      "|    SERANGOON|   2 ROOM|          211478.0|\n",
      "|   ANG MO KIO|   2 ROOM|216264.15094339623|\n",
      "|    WOODLANDS|   2 ROOM|217269.33333333334|\n",
      "|  JURONG WEST|   2 ROOM|218062.51162790696|\n",
      "|        BEDOK|   2 ROOM|220144.68085106384|\n",
      "|    SEMBAWANG|   2 ROOM|223402.43902439025|\n",
      "+-------------+---------+------------------+\n",
      "only showing top 10 rows\n",
      "\n"
     ]
    }
   ],
   "source": [
    "#bottom 5 towns based on average resale price\n",
    "df3.groupBy('Town','flat_type').mean().select(['Town','flat_type','avg(resale_price)']).sort(asc('avg(resale_price)')).show(10)"
   ]
  },
  {
   "cell_type": "code",
   "execution_count": 55,
   "metadata": {},
   "outputs": [
    {
     "name": "stdout",
     "output_type": "stream",
     "text": [
      "+------------+----------------+-----------------+\n",
      "|        Town|       flat_type|avg(resale_price)|\n",
      "+------------+----------------+-----------------+\n",
      "|  QUEENSTOWN|       EXECUTIVE|         993350.0|\n",
      "| BUKIT TIMAH|       EXECUTIVE|951174.4761904762|\n",
      "|CENTRAL AREA|          5 ROOM|      944515.4875|\n",
      "|      BISHAN|MULTI-GENERATION|         914777.6|\n",
      "|      BISHAN|       EXECUTIVE|899599.6033057851|\n",
      "|    TAMPINES|MULTI-GENERATION|846222.2222222222|\n",
      "|  QUEENSTOWN|          5 ROOM|836754.3557312253|\n",
      "|    CLEMENTI|       EXECUTIVE|830979.0188679246|\n",
      "|  ANG MO KIO|       EXECUTIVE|817382.6666666666|\n",
      "| BUKIT TIMAH|          5 ROOM|815171.4782608695|\n",
      "+------------+----------------+-----------------+\n",
      "only showing top 10 rows\n",
      "\n"
     ]
    }
   ],
   "source": [
    "#top 5 towns based on average resale price\n",
    "df3.groupBy('Town','flat_type').mean().select(['Town','flat_type',\n",
    "                                                      'avg(resale_price)']).sort(desc('avg(resale_price)')).show(10)"
   ]
  },
  {
   "cell_type": "code",
   "execution_count": 86,
   "metadata": {},
   "outputs": [
    {
     "name": "stdout",
     "output_type": "stream",
     "text": [
      "+-------------+--------------------+------------------+---------------------------+\n",
      "|         Town|avg(remaining_lease)|avg(price_per_sqm)|avg(floor_area_sqm_imputed)|\n",
      "+-------------+--------------------+------------------+---------------------------+\n",
      "|MARINE PARADE|   672.8940568475452|  5976.20374608566|          85.24131963550985|\n",
      "|      GEYLANG|   764.7574002574003| 5059.600640454359|          83.14356499356502|\n",
      "|        BEDOK|   775.6859142607174| 4549.276523713413|          89.51111711842911|\n",
      "|  BUKIT TIMAH|   778.6878306878307| 6419.156959117102|         110.78306878306879|\n",
      "|   ANG MO KIO|   781.9516626671237| 4726.984564654567|          84.91909496057593|\n",
      "+-------------+--------------------+------------------+---------------------------+\n",
      "only showing top 5 rows\n",
      "\n"
     ]
    }
   ],
   "source": [
    "#Towns with the oldest flats\n",
    "df3.groupBy('Town').mean().select(['Town','avg(remaining_lease)', 'avg(price_per_sqm)', 'avg(floor_area_sqm_imputed)']).sort(asc('avg(remaining_lease)')).show(5)"
   ]
  },
  {
   "cell_type": "code",
   "execution_count": 87,
   "metadata": {},
   "outputs": [
    {
     "name": "stdout",
     "output_type": "stream",
     "text": [
      "+-------------+--------------------+------------------+---------------------------+\n",
      "|         Town|avg(remaining_lease)|avg(price_per_sqm)|avg(floor_area_sqm_imputed)|\n",
      "+-------------+--------------------+------------------+---------------------------+\n",
      "|      PUNGGOL|  1092.5940692748568|4702.6199711518575|          97.12708696735609|\n",
      "|     SENGKANG|  1050.2722334004025| 4399.344359673143|          99.77424547283702|\n",
      "|    SEMBAWANG|  1005.6989737742304|3686.5537524548918|          103.7212086659065|\n",
      "|BUKIT PANJANG|   963.4236577181208| 4125.453614235329|         103.97944630872483|\n",
      "|    WOODLANDS|   933.2477947072975| 3560.995749274707|         106.17256818361047|\n",
      "+-------------+--------------------+------------------+---------------------------+\n",
      "only showing top 5 rows\n",
      "\n"
     ]
    }
   ],
   "source": [
    "#Towns with the newest flats\n",
    "df3.groupBy('Town').mean().select(['Town','avg(remaining_lease)', 'avg(price_per_sqm)', 'avg(floor_area_sqm_imputed)']).sort(desc('avg(remaining_lease)')).show(5)"
   ]
  },
  {
   "cell_type": "code",
   "execution_count": 58,
   "metadata": {
    "scrolled": true
   },
   "outputs": [
    {
     "name": "stdout",
     "output_type": "stream",
     "text": [
      "+-------------+---------+---------------------------+--------------------+\n",
      "|         Town|flat_type|avg(floor_area_sqm_imputed)|avg(remaining_lease)|\n",
      "+-------------+---------+---------------------------+--------------------+\n",
      "|    SEMBAWANG|   3 ROOM|          67.64406779661017|  1139.3389830508474|\n",
      "|    PASIR RIS|   2 ROOM|                       47.0|              1136.0|\n",
      "|      PUNGGOL|   3 ROOM|          68.37288135593221|  1133.6474576271187|\n",
      "|BUKIT PANJANG|   2 ROOM|                       47.0|  1131.7407407407406|\n",
      "|      PUNGGOL|   2 ROOM|          46.94871794871795|  1131.1153846153845|\n",
      "|     SENGKANG|   3 ROOM|          67.69393939393939|   1130.360606060606|\n",
      "|    SEMBAWANG|   2 ROOM|          45.48780487804878|   1130.341463414634|\n",
      "|  JURONG EAST|   2 ROOM|         44.794117647058826|              1127.5|\n",
      "|     SENGKANG|   2 ROOM|           46.9537037037037|  1126.3055555555557|\n",
      "|     TAMPINES|   2 ROOM|          46.03333333333333|  1125.9333333333334|\n",
      "+-------------+---------+---------------------------+--------------------+\n",
      "only showing top 10 rows\n",
      "\n"
     ]
    }
   ],
   "source": [
    "df3.groupBy('Town','flat_type').mean().select(['Town','flat_type','avg(floor_area_sqm_imputed)', 'avg(remaining_lease)']).sort(desc('avg(remaining_lease)')).show(10)"
   ]
  },
  {
   "cell_type": "code",
   "execution_count": 59,
   "metadata": {},
   "outputs": [
    {
     "name": "stdout",
     "output_type": "stream",
     "text": [
      "+----------------+---------------------------+--------------------+\n",
      "|       flat_type|avg(floor_area_sqm_imputed)|avg(remaining_lease)|\n",
      "+----------------+---------------------------+--------------------+\n",
      "|          1 ROOM|                       31.0|   668.5172413793103|\n",
      "|          3 ROOM|          68.29045480787735|   779.8618897940855|\n",
      "|MULTI-GENERATION|          164.8181818181818|   815.0909090909091|\n",
      "|       EXECUTIVE|         144.30160572644613|   895.2505320177984|\n",
      "|          2 ROOM|         45.869423286180634|   913.0533188248096|\n",
      "|          4 ROOM|          95.57121333455346|   936.4632972322503|\n",
      "|          5 ROOM|         118.18541090726313|   936.5038326212616|\n",
      "+----------------+---------------------------+--------------------+\n",
      "\n"
     ]
    }
   ],
   "source": [
    "#Average floor area by m2 and Average Remaining Lease for each flat type\n",
    "df3.groupBy('flat_type').mean().select(['flat_type','avg(floor_area_sqm_imputed)', 'avg(remaining_lease)']).sort(asc('avg(remaining_lease)')).show()"
   ]
  },
  {
   "cell_type": "code",
   "execution_count": 60,
   "metadata": {
    "scrolled": false
   },
   "outputs": [
    {
     "name": "stdout",
     "output_type": "stream",
     "text": [
      "+---------------+------------------+\n",
      "|remaining_lease| avg(resale_price)|\n",
      "+---------------+------------------+\n",
      "|            553|          258700.0|\n",
      "|            554|245166.66666666666|\n",
      "|            555|          256000.0|\n",
      "|            556|          246000.0|\n",
      "|            557|          265000.0|\n",
      "+---------------+------------------+\n",
      "only showing top 5 rows\n",
      "\n",
      "+---------------+-----------------+\n",
      "|remaining_lease|avg(resale_price)|\n",
      "+---------------+-----------------+\n",
      "|           1160|         695000.0|\n",
      "|           1159|         462500.0|\n",
      "|           1158|         861000.0|\n",
      "|           1157|         839000.0|\n",
      "|           1156|957666.6666666666|\n",
      "+---------------+-----------------+\n",
      "only showing top 5 rows\n",
      "\n"
     ]
    }
   ],
   "source": [
    "#Remaining Lease vs Resale Price\n",
    "df3.groupBy('remaining_lease').mean().select(['remaining_lease','avg(resale_price)']).sort(asc('remaining_lease')).show(5)\n",
    "df3.groupBy('remaining_lease').mean().select(['remaining_lease','avg(resale_price)']).sort(desc('remaining_lease')).show(5)"
   ]
  },
  {
   "cell_type": "code",
   "execution_count": 61,
   "metadata": {},
   "outputs": [
    {
     "name": "stdout",
     "output_type": "stream",
     "text": [
      "+---------+----+-----+-----------------+\n",
      "|flat_type|year|month|avg(resale_price)|\n",
      "+---------+----+-----+-----------------+\n",
      "|   3 ROOM|2017|    1| 318483.656626506|\n",
      "+---------+----+-----+-----------------+\n",
      "\n",
      "+---------+----+-----+------------------+\n",
      "|flat_type|year|month| avg(resale_price)|\n",
      "+---------+----+-----+------------------+\n",
      "|   3 ROOM|2019|   12|301084.65684210527|\n",
      "+---------+----+-----+------------------+\n",
      "\n",
      "+---------+----+-----+------------------+\n",
      "|flat_type|year|month| avg(resale_price)|\n",
      "+---------+----+-----+------------------+\n",
      "|   4 ROOM|2017|    1|427766.58585858584|\n",
      "+---------+----+-----+------------------+\n",
      "\n",
      "+---------+----+-----+-----------------+\n",
      "|flat_type|year|month|avg(resale_price)|\n",
      "+---------+----+-----+-----------------+\n",
      "|   4 ROOM|2019|   12| 433873.908496732|\n",
      "+---------+----+-----+-----------------+\n",
      "\n",
      "+---------+----+-----+-----------------+\n",
      "|flat_type|year|month|avg(resale_price)|\n",
      "+---------+----+-----+-----------------+\n",
      "|   5 ROOM|2017|    1|  516695.73046875|\n",
      "+---------+----+-----+-----------------+\n",
      "\n",
      "+---------+----+-----+------------------+\n",
      "|flat_type|year|month| avg(resale_price)|\n",
      "+---------+----+-----+------------------+\n",
      "|   5 ROOM|2019|   12|523007.42923433875|\n",
      "+---------+----+-----+------------------+\n",
      "\n"
     ]
    }
   ],
   "source": [
    "#Comparison of 3room, 4room and 5room resale prices after 3 years\n",
    "\n",
    "#3-room\n",
    "df_room = df3.groupBy('flat_type', 'year', 'month').mean().select(['flat_type','year','month','avg(resale_price)'])\n",
    "df_room.filter((df_room['flat_type']=='3 ROOM') & (df_room['year']=='2017') & (df_room['month']=='1')).show()\n",
    "df_room.filter((df_room['flat_type']=='3 ROOM') & (df_room['year']=='2019') & (df_room['month']=='12')).show()\n",
    "\n",
    "#4-room\n",
    "df_room = df3.groupBy('flat_type', 'year', 'month').mean().select(['flat_type','year','month','avg(resale_price)'])\n",
    "df_room.filter((df_room['flat_type']=='4 ROOM') & (df_room['year']=='2017') & (df_room['month']=='1')).show()\n",
    "df_room.filter((df_room['flat_type']=='4 ROOM') & (df_room['year']=='2019') & (df_room['month']=='12')).show()\n",
    "\n",
    "#5-room\n",
    "df_room = df3.groupBy('flat_type', 'year', 'month').mean().select(['flat_type','year','month','avg(resale_price)'])\n",
    "df_room.filter((df_room['flat_type']=='5 ROOM') & (df_room['year']=='2017') & (df_room['month']=='1')).show()\n",
    "df_room.filter((df_room['flat_type']=='5 ROOM') & (df_room['year']=='2019') & (df_room['month']=='12')).show()"
   ]
  },
  {
   "cell_type": "markdown",
   "metadata": {},
   "source": [
    "### Step 3: Data Wrangling and Transformation"
   ]
  },
  {
   "cell_type": "code",
   "execution_count": 62,
   "metadata": {},
   "outputs": [
    {
     "name": "stdout",
     "output_type": "stream",
     "text": [
      "+----+-----+----------+---------+-----+-----------------+------------+--------------+-------------------+---------------+------------+----------------------+------------------+-------------------+------------------------+--------------------+--------------------------+---------------------------+-------------------------+--------------+-----------------+------------------+-------------------+--------------------+------------------+\n",
      "|year|month|town      |flat_type|block|street_name      |storey_range|flat_model    |lease_commence_date|remaining_lease|resale_price|floor_area_sqm_imputed|price_per_sqm     |town_string_encoded|flat_type_string_encoded|block_string_encoded|street_name_string_encoded|storey_range_string_encoded|flat_model_string_encoded|town_one_hot  |flat_type_one_hot|block_one_hot     |street_name_one_hot|storey_range_one_hot|flat_model_one_hot|\n",
      "+----+-----+----------+---------+-----+-----------------+------------+--------------+-------------------+---------------+------------+----------------------+------------------+-------------------+------------------------+--------------------+--------------------------+---------------------------+-------------------------+--------------+-----------------+------------------+-------------------+--------------------+------------------+\n",
      "|2017|1    |ANG MO KIO|2 ROOM   |406  |ANG MO KIO AVE 10|10 TO 12    |Improved      |1979               |736            |232000.0    |44.0                  |5272.727272727273 |8.0                |4.0                     |104.0               |4.0                       |2.0                        |1.0                      |(25,[8],[1.0])|(6,[4],[1.0])    |(2386,[104],[1.0])|(540,[4],[1.0])    |(16,[2],[1.0])      |(18,[1],[1.0])    |\n",
      "|2017|1    |ANG MO KIO|3 ROOM   |108  |ANG MO KIO AVE 4 |01 TO 03    |New Generation|1978               |727            |250000.0    |67.0                  |3731.3432835820895|8.0                |2.0                     |23.0                |20.0                      |3.0                        |2.0                      |(25,[8],[1.0])|(6,[2],[1.0])    |(2386,[23],[1.0]) |(540,[20],[1.0])   |(16,[3],[1.0])      |(18,[2],[1.0])    |\n",
      "|2017|1    |ANG MO KIO|3 ROOM   |602  |ANG MO KIO AVE 5 |01 TO 03    |New Generation|1980               |749            |262000.0    |67.0                  |3910.4477611940297|8.0                |2.0                     |132.0               |31.0                      |3.0                        |2.0                      |(25,[8],[1.0])|(6,[2],[1.0])    |(2386,[132],[1.0])|(540,[31],[1.0])   |(16,[3],[1.0])      |(18,[2],[1.0])    |\n",
      "|2017|1    |ANG MO KIO|3 ROOM   |465  |ANG MO KIO AVE 10|04 TO 06    |New Generation|1980               |745            |265000.0    |68.0                  |3897.0588235294117|8.0                |2.0                     |399.0               |4.0                       |0.0                        |2.0                      |(25,[8],[1.0])|(6,[2],[1.0])    |(2386,[399],[1.0])|(540,[4],[1.0])    |(16,[0],[1.0])      |(18,[2],[1.0])    |\n",
      "|2017|1    |ANG MO KIO|3 ROOM   |601  |ANG MO KIO AVE 5 |01 TO 03    |New Generation|1980               |749            |265000.0    |67.0                  |3955.223880597015 |8.0                |2.0                     |300.0               |31.0                      |3.0                        |2.0                      |(25,[8],[1.0])|(6,[2],[1.0])    |(2386,[300],[1.0])|(540,[31],[1.0])   |(16,[3],[1.0])      |(18,[2],[1.0])    |\n",
      "+----+-----+----------+---------+-----+-----------------+------------+--------------+-------------------+---------------+------------+----------------------+------------------+-------------------+------------------------+--------------------+--------------------------+---------------------------+-------------------------+--------------+-----------------+------------------+-------------------+--------------------+------------------+\n",
      "only showing top 5 rows\n",
      "\n"
     ]
    }
   ],
   "source": [
    "strings_used = ['town', 'flat_type', 'block', 'street_name', 'storey_range', 'flat_model']\n",
    "\n",
    "stage_string = [StringIndexer(inputCol= c, outputCol= c+\"_string_encoded\") for c in strings_used]\n",
    "stage_one_hot = [OneHotEncoder(inputCol= c+\"_string_encoded\", outputCol= c+ \"_one_hot\") for c in strings_used]\n",
    "\n",
    "ppl = Pipeline(stages= stage_string + stage_one_hot)\n",
    "pyspark_index_ohe = ppl.fit(df3).transform(df3)\n",
    "pyspark_index_ohe.show(5, truncate=False)"
   ]
  },
  {
   "cell_type": "code",
   "execution_count": 63,
   "metadata": {},
   "outputs": [
    {
     "name": "stdout",
     "output_type": "stream",
     "text": [
      "+--------------------+\n",
      "|               Xcols|\n",
      "+--------------------+\n",
      "|[2017.0,1.0,1979....|\n",
      "|[2017.0,1.0,1978....|\n",
      "|[2017.0,1.0,1980....|\n",
      "|[2017.0,1.0,1980....|\n",
      "|[2017.0,1.0,1980....|\n",
      "|[2017.0,1.0,1981....|\n",
      "|[2017.0,1.0,1979....|\n",
      "|[2017.0,1.0,1976....|\n",
      "|[2017.0,1.0,1979....|\n",
      "|[2017.0,1.0,1979....|\n",
      "|[2017.0,1.0,1980....|\n",
      "|[2017.0,1.0,1977....|\n",
      "|[2017.0,1.0,1977....|\n",
      "|[2017.0,1.0,1977....|\n",
      "|[2017.0,1.0,1980....|\n",
      "|[2017.0,1.0,1978....|\n",
      "|[2017.0,1.0,1979....|\n",
      "|[2017.0,1.0,1980....|\n",
      "|[2017.0,1.0,1979....|\n",
      "|[2017.0,1.0,1980....|\n",
      "+--------------------+\n",
      "only showing top 20 rows\n",
      "\n"
     ]
    }
   ],
   "source": [
    "#Consolidating x columns\n",
    "# specify the input and output columns of the vector assembler\n",
    "assembler = VectorAssembler(inputCols=['year',\n",
    "                                       'month',\n",
    "                                       'lease_commence_date',\n",
    "                                       'remaining_lease',\n",
    "                                       'floor_area_sqm_imputed', \n",
    "                                       'price_per_sqm',\n",
    "                                       'resale_price'],\n",
    "                           outputCol='Xcols')\n",
    "# transform the data\n",
    "final_data = assembler.transform(pyspark_index_ohe)\n",
    "\n",
    "# view the transformed vector\n",
    "final_data.select('Xcols').show()"
   ]
  },
  {
   "cell_type": "code",
   "execution_count": 64,
   "metadata": {},
   "outputs": [
    {
     "name": "stdout",
     "output_type": "stream",
     "text": [
      "+----+-----+----------+---------+-----+-----------------+------------+--------------+-------------------+---------------+------------+----------------------+------------------+-------------------+------------------------+--------------------+--------------------------+---------------------------+-------------------------+--------------+-----------------+------------------+-------------------+--------------------+------------------+--------------------+--------------------+\n",
      "|year|month|      town|flat_type|block|      street_name|storey_range|    flat_model|lease_commence_date|remaining_lease|resale_price|floor_area_sqm_imputed|     price_per_sqm|town_string_encoded|flat_type_string_encoded|block_string_encoded|street_name_string_encoded|storey_range_string_encoded|flat_model_string_encoded|  town_one_hot|flat_type_one_hot|     block_one_hot|street_name_one_hot|storey_range_one_hot|flat_model_one_hot|               Xcols|       Xcols_sscaled|\n",
      "+----+-----+----------+---------+-----+-----------------+------------+--------------+-------------------+---------------+------------+----------------------+------------------+-------------------+------------------------+--------------------+--------------------------+---------------------------+-------------------------+--------------+-----------------+------------------+-------------------+--------------------+------------------+--------------------+--------------------+\n",
      "|2017|    1|ANG MO KIO|   2 ROOM|  406|ANG MO KIO AVE 10|    10 TO 12|      Improved|               1979|            736|    232000.0|                  44.0| 5272.727272727273|                8.0|                     4.0|               104.0|                       4.0|                        2.0|                      1.0|(25,[8],[1.0])|    (6,[4],[1.0])|(2386,[104],[1.0])|    (540,[4],[1.0])|      (16,[2],[1.0])|    (18,[1],[1.0])|[2017.0,1.0,1979....|[-1.2596662517206...|\n",
      "|2017|    1|ANG MO KIO|   3 ROOM|  108| ANG MO KIO AVE 4|    01 TO 03|New Generation|               1978|            727|    250000.0|                  67.0|3731.3432835820895|                8.0|                     2.0|                23.0|                      20.0|                        3.0|                      2.0|(25,[8],[1.0])|    (6,[2],[1.0])| (2386,[23],[1.0])|   (540,[20],[1.0])|      (16,[3],[1.0])|    (18,[2],[1.0])|[2017.0,1.0,1978....|[-1.2596662517206...|\n",
      "|2017|    1|ANG MO KIO|   3 ROOM|  602| ANG MO KIO AVE 5|    01 TO 03|New Generation|               1980|            749|    262000.0|                  67.0|3910.4477611940297|                8.0|                     2.0|               132.0|                      31.0|                        3.0|                      2.0|(25,[8],[1.0])|    (6,[2],[1.0])|(2386,[132],[1.0])|   (540,[31],[1.0])|      (16,[3],[1.0])|    (18,[2],[1.0])|[2017.0,1.0,1980....|[-1.2596662517206...|\n",
      "|2017|    1|ANG MO KIO|   3 ROOM|  465|ANG MO KIO AVE 10|    04 TO 06|New Generation|               1980|            745|    265000.0|                  68.0|3897.0588235294117|                8.0|                     2.0|               399.0|                       4.0|                        0.0|                      2.0|(25,[8],[1.0])|    (6,[2],[1.0])|(2386,[399],[1.0])|    (540,[4],[1.0])|      (16,[0],[1.0])|    (18,[2],[1.0])|[2017.0,1.0,1980....|[-1.2596662517206...|\n",
      "|2017|    1|ANG MO KIO|   3 ROOM|  601| ANG MO KIO AVE 5|    01 TO 03|New Generation|               1980|            749|    265000.0|                  67.0| 3955.223880597015|                8.0|                     2.0|               300.0|                      31.0|                        3.0|                      2.0|(25,[8],[1.0])|    (6,[2],[1.0])|(2386,[300],[1.0])|   (540,[31],[1.0])|      (16,[3],[1.0])|    (18,[2],[1.0])|[2017.0,1.0,1980....|[-1.2596662517206...|\n",
      "|2017|    1|ANG MO KIO|   3 ROOM|  150| ANG MO KIO AVE 5|    01 TO 03|New Generation|               1981|            756|    275000.0|                  68.0|4044.1176470588234|                8.0|                     2.0|               186.0|                      31.0|                        3.0|                      2.0|(25,[8],[1.0])|    (6,[2],[1.0])|(2386,[186],[1.0])|   (540,[31],[1.0])|      (16,[3],[1.0])|    (18,[2],[1.0])|[2017.0,1.0,1981....|[-1.2596662517206...|\n",
      "|2017|    1|ANG MO KIO|   3 ROOM|  447|ANG MO KIO AVE 10|    04 TO 06|New Generation|               1979|            738|    280000.0|                  68.0|  4117.64705882353|                8.0|                     2.0|               549.0|                       4.0|                        0.0|                      2.0|(25,[8],[1.0])|    (6,[2],[1.0])|(2386,[549],[1.0])|    (540,[4],[1.0])|      (16,[0],[1.0])|    (18,[2],[1.0])|[2017.0,1.0,1979....|[-1.2596662517206...|\n",
      "|2017|    1|ANG MO KIO|   3 ROOM|  218| ANG MO KIO AVE 1|    04 TO 06|New Generation|               1976|            700|    285000.0|                  67.0| 4253.731343283582|                8.0|                     2.0|               172.0|                      30.0|                        0.0|                      2.0|(25,[8],[1.0])|    (6,[2],[1.0])|(2386,[172],[1.0])|   (540,[30],[1.0])|      (16,[0],[1.0])|    (18,[2],[1.0])|[2017.0,1.0,1976....|[-1.2596662517206...|\n",
      "|2017|    1|ANG MO KIO|   3 ROOM|  447|ANG MO KIO AVE 10|    04 TO 06|New Generation|               1979|            738|    285000.0|                  68.0| 4191.176470588235|                8.0|                     2.0|               549.0|                       4.0|                        0.0|                      2.0|(25,[8],[1.0])|    (6,[2],[1.0])|(2386,[549],[1.0])|    (540,[4],[1.0])|      (16,[0],[1.0])|    (18,[2],[1.0])|[2017.0,1.0,1979....|[-1.2596662517206...|\n",
      "|2017|    1|ANG MO KIO|   3 ROOM|  571| ANG MO KIO AVE 3|    01 TO 03|New Generation|               1979|            736|    285000.0|                  67.0| 4253.731343283582|                8.0|                     2.0|               576.0|                       7.0|                        3.0|                      2.0|(25,[8],[1.0])|    (6,[2],[1.0])|(2386,[576],[1.0])|    (540,[7],[1.0])|      (16,[3],[1.0])|    (18,[2],[1.0])|[2017.0,1.0,1979....|[-1.2596662517206...|\n",
      "|2017|    1|ANG MO KIO|   3 ROOM|  534|ANG MO KIO AVE 10|    01 TO 03|New Generation|               1980|            745|    288500.0|                  68.0|  4242.64705882353|                8.0|                     2.0|               168.0|                       4.0|                        3.0|                      2.0|(25,[8],[1.0])|    (6,[2],[1.0])|(2386,[168],[1.0])|    (540,[4],[1.0])|      (16,[3],[1.0])|    (18,[2],[1.0])|[2017.0,1.0,1980....|[-1.2596662517206...|\n",
      "|2017|    1|ANG MO KIO|   3 ROOM|  233| ANG MO KIO AVE 3|    10 TO 12|New Generation|               1977|            716|    295000.0|                  67.0| 4402.985074626866|                8.0|                     2.0|               145.0|                       7.0|                        2.0|                      2.0|(25,[8],[1.0])|    (6,[2],[1.0])|(2386,[145],[1.0])|    (540,[7],[1.0])|      (16,[2],[1.0])|    (18,[2],[1.0])|[2017.0,1.0,1977....|[-1.2596662517206...|\n",
      "|2017|    1|ANG MO KIO|   3 ROOM|  235| ANG MO KIO AVE 3|    04 TO 06|New Generation|               1977|            716|    295000.0|                  67.0| 4402.985074626866|                8.0|                     2.0|               166.0|                       7.0|                        0.0|                      2.0|(25,[8],[1.0])|    (6,[2],[1.0])|(2386,[166],[1.0])|    (540,[7],[1.0])|      (16,[0],[1.0])|    (18,[2],[1.0])|[2017.0,1.0,1977....|[-1.2596662517206...|\n",
      "|2017|    1|ANG MO KIO|   3 ROOM|  219| ANG MO KIO AVE 1|    07 TO 09|New Generation|               1977|            714|    297000.0|                  67.0| 4432.835820895522|                8.0|                     2.0|               101.0|                      30.0|                        1.0|                      2.0|(25,[8],[1.0])|    (6,[2],[1.0])|(2386,[101],[1.0])|   (540,[30],[1.0])|      (16,[1],[1.0])|    (18,[2],[1.0])|[2017.0,1.0,1977....|[-1.2596662517206...|\n",
      "|2017|    1|ANG MO KIO|   3 ROOM|  536|ANG MO KIO AVE 10|    07 TO 09|New Generation|               1980|            745|    298000.0|                  68.0|  4382.35294117647|                8.0|                     2.0|               138.0|                       4.0|                        1.0|                      2.0|(25,[8],[1.0])|    (6,[2],[1.0])|(2386,[138],[1.0])|    (540,[4],[1.0])|      (16,[1],[1.0])|    (18,[2],[1.0])|[2017.0,1.0,1980....|[-1.2596662517206...|\n",
      "|2017|    1|ANG MO KIO|   3 ROOM|  230| ANG MO KIO AVE 3|    04 TO 06|New Generation|               1978|            720|    298000.0|                  67.0| 4447.761194029851|                8.0|                     2.0|               109.0|                       7.0|                        0.0|                      2.0|(25,[8],[1.0])|    (6,[2],[1.0])|(2386,[109],[1.0])|    (540,[7],[1.0])|      (16,[0],[1.0])|    (18,[2],[1.0])|[2017.0,1.0,1978....|[-1.2596662517206...|\n",
      "|2017|    1|ANG MO KIO|   3 ROOM|  570| ANG MO KIO AVE 3|    10 TO 12|New Generation|               1979|            736|    300000.0|                  67.0| 4477.611940298508|                8.0|                     2.0|               497.0|                       7.0|                        2.0|                      2.0|(25,[8],[1.0])|    (6,[2],[1.0])|(2386,[497],[1.0])|    (540,[7],[1.0])|      (16,[2],[1.0])|    (18,[2],[1.0])|[2017.0,1.0,1979....|[-1.2596662517206...|\n",
      "|2017|    1|ANG MO KIO|   3 ROOM|  624| ANG MO KIO AVE 4|    04 TO 06|New Generation|               1980|            752|    301000.0|                  68.0| 4426.470588235294|                8.0|                     2.0|               425.0|                      20.0|                        0.0|                      2.0|(25,[8],[1.0])|    (6,[2],[1.0])|(2386,[425],[1.0])|   (540,[20],[1.0])|      (16,[0],[1.0])|    (18,[2],[1.0])|[2017.0,1.0,1980....|[-1.2596662517206...|\n",
      "|2017|    1|ANG MO KIO|   3 ROOM|  441|ANG MO KIO AVE 10|    07 TO 09|New Generation|               1979|            732|    306000.0|                  67.0| 4567.164179104478|                8.0|                     2.0|               691.0|                       4.0|                        1.0|                      2.0|(25,[8],[1.0])|    (6,[2],[1.0])|(2386,[691],[1.0])|    (540,[4],[1.0])|      (16,[1],[1.0])|    (18,[2],[1.0])|[2017.0,1.0,1979....|[-1.2596662517206...|\n",
      "|2017|    1|ANG MO KIO|   3 ROOM|  625| ANG MO KIO AVE 9|    04 TO 06|New Generation|               1980|            752|    312000.0|                  68.0| 4588.235294117647|                8.0|                     2.0|               245.0|                     418.0|                        0.0|                      2.0|(25,[8],[1.0])|    (6,[2],[1.0])|(2386,[245],[1.0])|  (540,[418],[1.0])|      (16,[0],[1.0])|    (18,[2],[1.0])|[2017.0,1.0,1980....|[-1.2596662517206...|\n",
      "+----+-----+----------+---------+-----+-----------------+------------+--------------+-------------------+---------------+------------+----------------------+------------------+-------------------+------------------------+--------------------+--------------------------+---------------------------+-------------------------+--------------+-----------------+------------------+-------------------+--------------------+------------------+--------------------+--------------------+\n",
      "only showing top 20 rows\n",
      "\n"
     ]
    }
   ],
   "source": [
    "#Standard Scaler\n",
    "sScaler = StandardScaler(withMean=True, withStd=True, inputCol=\"Xcols\", outputCol=\"Xcols_sscaled\")\n",
    "\n",
    "final_data = sScaler.fit(final_data).transform(final_data)\n",
    "final_data.show()"
   ]
  },
  {
   "cell_type": "markdown",
   "metadata": {},
   "source": [
    "### Step 4: Machine Learning Modelling"
   ]
  },
  {
   "cell_type": "code",
   "execution_count": 65,
   "metadata": {},
   "outputs": [],
   "source": [
    "# how to we train or test our models?\n",
    "splits = final_data.randomSplit([0.7, 0.3])\n",
    "train_df = splits[0]\n",
    "test_df = splits[1]"
   ]
  },
  {
   "cell_type": "code",
   "execution_count": 66,
   "metadata": {},
   "outputs": [
    {
     "name": "stdout",
     "output_type": "stream",
     "text": [
      "Shape of the dataset:  (44731, 27)\n",
      "Shape of the dataset:  (19516, 27)\n"
     ]
    }
   ],
   "source": [
    "# use code to show number of rows and columns,\n",
    "# as well as a sample of 10 rows before heading into Machine Learning Modelling\n",
    "#Train dataset\n",
    "print('Shape of the dataset: ', (train_df.count(), len(train_df.columns)))\n",
    "#Test dataset\n",
    "print('Shape of the dataset: ', (test_df.count(), len(test_df.columns)))"
   ]
  },
  {
   "cell_type": "code",
   "execution_count": 88,
   "metadata": {},
   "outputs": [
    {
     "name": "stdout",
     "output_type": "stream",
     "text": [
      "+--------------------+------------+\n",
      "|       Xcols_sscaled|resale_price|\n",
      "+--------------------+------------+\n",
      "|[-1.2596662517206...|    275000.0|\n",
      "|[-1.2596662517206...|    325000.0|\n",
      "|[-1.2596662517206...|    285000.0|\n",
      "|[-1.2596662517206...|    297000.0|\n",
      "|[-1.2596662517206...|    298000.0|\n",
      "|[-1.2596662517206...|    295000.0|\n",
      "|[-1.2596662517206...|    295000.0|\n",
      "|[-1.2596662517206...|    321000.0|\n",
      "|[-1.2596662517206...|    335000.0|\n",
      "|[-1.2596662517206...|    330000.0|\n",
      "+--------------------+------------+\n",
      "only showing top 10 rows\n",
      "\n"
     ]
    }
   ],
   "source": [
    "train_data = train_df.select(\"Xcols_sscaled\",\"resale_price\")\n",
    "train_data.show(10)"
   ]
  },
  {
   "cell_type": "code",
   "execution_count": 89,
   "metadata": {},
   "outputs": [
    {
     "name": "stdout",
     "output_type": "stream",
     "text": [
      "+--------------------+------------+\n",
      "|       Xcols_sscaled|resale_price|\n",
      "+--------------------+------------+\n",
      "|[-1.2596662517206...|    232000.0|\n",
      "|[-1.2596662517206...|    250000.0|\n",
      "|[-1.2596662517206...|    330000.0|\n",
      "|[-1.2596662517206...|    312000.0|\n",
      "|[-1.2596662517206...|    373000.0|\n",
      "|[-1.2596662517206...|    338000.0|\n",
      "|[-1.2596662517206...|    306000.0|\n",
      "|[-1.2596662517206...|    265000.0|\n",
      "|[-1.2596662517206...|    328000.0|\n",
      "|[-1.2596662517206...|    301000.0|\n",
      "+--------------------+------------+\n",
      "only showing top 10 rows\n",
      "\n"
     ]
    }
   ],
   "source": [
    "test_data = test_df.select(\"Xcols_sscaled\",\"resale_price\")\n",
    "test_data.show(10)"
   ]
  },
  {
   "cell_type": "markdown",
   "metadata": {},
   "source": [
    "### Step 5: Model Evaluation and Selection"
   ]
  },
  {
   "cell_type": "code",
   "execution_count": 69,
   "metadata": {},
   "outputs": [],
   "source": [
    "regressor=LinearRegression(featuresCol=\"Xcols_sscaled\", labelCol='resale_price')\n",
    "regressor=regressor.fit(train_data)"
   ]
  },
  {
   "cell_type": "code",
   "execution_count": 70,
   "metadata": {},
   "outputs": [
    {
     "data": {
      "text/plain": [
       "pyspark.ml.regression.LinearRegressionModel"
      ]
     },
     "execution_count": 70,
     "metadata": {},
     "output_type": "execute_result"
    }
   ],
   "source": [
    "type(regressor)"
   ]
  },
  {
   "cell_type": "code",
   "execution_count": 71,
   "metadata": {},
   "outputs": [
    {
     "data": {
      "text/plain": [
       "DenseVector([0.0, 0.0, -0.0, 0.0, 0.0, 0.0, 153760.6529])"
      ]
     },
     "execution_count": 71,
     "metadata": {},
     "output_type": "execute_result"
    }
   ],
   "source": [
    "# Coefficients\n",
    "regressor.coefficients"
   ]
  },
  {
   "cell_type": "code",
   "execution_count": 72,
   "metadata": {},
   "outputs": [
    {
     "data": {
      "text/plain": [
       "438943.7046951623"
      ]
     },
     "execution_count": 72,
     "metadata": {},
     "output_type": "execute_result"
    }
   ],
   "source": [
    "# Intercept\n",
    "regressor.intercept"
   ]
  },
  {
   "cell_type": "code",
   "execution_count": 73,
   "metadata": {},
   "outputs": [
    {
     "data": {
      "text/plain": [
       "[Row(Xcols_sscaled=DenseVector([-1.2597, -1.7708, -1.0109, -0.9266, -1.2271, -0.3943, -1.0662]), resale_price=275000.0)]"
      ]
     },
     "execution_count": 73,
     "metadata": {},
     "output_type": "execute_result"
    }
   ],
   "source": [
    "# first row values of Xcols_sscaled\n",
    "train_data.take(1)"
   ]
  },
  {
   "cell_type": "code",
   "execution_count": 74,
   "metadata": {},
   "outputs": [],
   "source": [
    "train_pred_results=regressor.evaluate(train_data)"
   ]
  },
  {
   "cell_type": "code",
   "execution_count": 75,
   "metadata": {},
   "outputs": [
    {
     "name": "stdout",
     "output_type": "stream",
     "text": [
      "+--------------------+------------+------------------+\n",
      "|       Xcols_sscaled|resale_price|        prediction|\n",
      "+--------------------+------------+------------------+\n",
      "|[-1.2596662517206...|    275000.0| 274999.9999991242|\n",
      "|[-1.2596662517206...|    325000.0| 324999.9999995442|\n",
      "|[-1.2596662517206...|    285000.0|284999.99999963713|\n",
      "|[-1.2596662517206...|    297000.0|296999.99999988324|\n",
      "|[-1.2596662517206...|    298000.0|297999.99999915797|\n",
      "|[-1.2596662517206...|    295000.0| 295000.0000001223|\n",
      "|[-1.2596662517206...|    295000.0| 295000.0000001223|\n",
      "|[-1.2596662517206...|    321000.0| 320999.9999998767|\n",
      "|[-1.2596662517206...|    335000.0|334999.99999988603|\n",
      "|[-1.2596662517206...|    330000.0|329999.99999916623|\n",
      "|[-1.2596662517206...|    325000.0| 324999.9999991752|\n",
      "|[-1.2596662517206...|    280000.0|279999.99999985803|\n",
      "|[-1.2596662517206...|    285000.0|284999.99999986193|\n",
      "|[-1.2596662517206...|    390000.0|389999.99999975634|\n",
      "|[-1.2596662517206...|    288500.0| 288499.9999992589|\n",
      "|[-1.2596662517206...|    298000.0| 297999.9999992661|\n",
      "|[-1.2596662517206...|    366000.0|365999.99999913864|\n",
      "|[-1.2596662517206...|    300000.0| 299999.9999996369|\n",
      "|[-1.2596662517206...|    285000.0|284999.99999962514|\n",
      "|[-1.2596662517206...|    375000.0| 374999.9999991433|\n",
      "+--------------------+------------+------------------+\n",
      "only showing top 20 rows\n",
      "\n"
     ]
    }
   ],
   "source": [
    "train_pred_results.predictions.show()"
   ]
  },
  {
   "cell_type": "code",
   "execution_count": 76,
   "metadata": {},
   "outputs": [],
   "source": [
    "test_pred_results=regressor.evaluate(test_data)"
   ]
  },
  {
   "cell_type": "code",
   "execution_count": 77,
   "metadata": {},
   "outputs": [
    {
     "name": "stdout",
     "output_type": "stream",
     "text": [
      "+--------------------+------------+------------------+\n",
      "|       Xcols_sscaled|resale_price|        prediction|\n",
      "+--------------------+------------+------------------+\n",
      "|[-1.2596662517206...|    232000.0| 231999.9999997096|\n",
      "|[-1.2596662517206...|    250000.0| 249999.9999999627|\n",
      "|[-1.2596662517206...|    330000.0| 329999.9999996343|\n",
      "|[-1.2596662517206...|    312000.0| 312000.0000003723|\n",
      "|[-1.2596662517206...|    373000.0|372999.99999954633|\n",
      "|[-1.2596662517206...|    338000.0| 337999.9999991723|\n",
      "|[-1.2596662517206...|    306000.0| 305999.9999991603|\n",
      "|[-1.2596662517206...|    265000.0|  264999.999999241|\n",
      "|[-1.2596662517206...|    328000.0|327999.99999977916|\n",
      "|[-1.2596662517206...|    301000.0| 301000.0000001107|\n",
      "|[-1.2596662517206...|    425888.0| 425887.9999992462|\n",
      "|[-1.2596662517206...|    425888.0| 425887.9999992462|\n",
      "|[-1.2596662517206...|    425888.0| 425887.9999992462|\n",
      "|[-1.2596662517206...|    430000.0| 429999.9999998594|\n",
      "|[-1.2596662517206...|    560000.0| 560000.0000001364|\n",
      "|[-1.2596662517206...|    435000.0| 435000.0000003474|\n",
      "|[-1.2596662517206...|    400000.0|399999.99999985483|\n",
      "|[-1.2596662517206...|    435000.0| 434999.9999997446|\n",
      "|[-1.2596662517206...|    725000.0| 724999.9999997399|\n",
      "|[-1.2596662517206...|    280000.0|279999.99999918963|\n",
      "+--------------------+------------+------------------+\n",
      "only showing top 20 rows\n",
      "\n"
     ]
    }
   ],
   "source": [
    "test_pred_results.predictions.show()"
   ]
  },
  {
   "cell_type": "code",
   "execution_count": 78,
   "metadata": {},
   "outputs": [
    {
     "data": {
      "text/plain": [
       "(3.779122508073815e-07, 2.049567361733361e-13, 1.0)"
      ]
     },
     "execution_count": 78,
     "metadata": {},
     "output_type": "execute_result"
    }
   ],
   "source": [
    "train_pred_results.meanAbsoluteError, train_pred_results.meanSquaredError, train_pred_results.r2"
   ]
  },
  {
   "cell_type": "code",
   "execution_count": 79,
   "metadata": {},
   "outputs": [
    {
     "data": {
      "text/plain": [
       "(3.756353910115257e-07, 2.0208333014798127e-13, 1.0)"
      ]
     },
     "execution_count": 79,
     "metadata": {},
     "output_type": "execute_result"
    }
   ],
   "source": [
    "test_pred_results.meanAbsoluteError, test_pred_results.meanSquaredError, test_pred_results.r2"
   ]
  },
  {
   "cell_type": "markdown",
   "metadata": {},
   "source": [
    "### Step 7: Report"
   ]
  },
  {
   "cell_type": "markdown",
   "metadata": {},
   "source": [
    "# 7.1 Problem Statement Formulation <a id=\"part7.1\"></a>\n",
    "[Back to top](#top)\n",
    "\n",
    "First, before loading the data, I will import the packages required to accomplish the various tasks in this report. The packages are split into 8 parts that are Basic, Functions, Types, Matplotlib, Imputation, Categorical Encoding, Feature Scaling and Machine Learning.\n",
    "\n",
    "I will load the housing dataset using the `spark.read.csv` function. Then, I will use the `printSchema` function to find out the data types of the variables present in the dataset. There are a total of 12 variables present in the datset, with 4 of them being `integer` type, 2 of them `double` type and the remaining 6 being of `string`type.\n",
    "\n",
    "I will then use the `show` function to see the preview of 20 records present in the dataset, followed by the `describe` function to find out the basic information of each variable.\n",
    "Over the years, the use of Machine Learning has proved to be an effective and essential metric to discover patterns, create models and make predictions. It has become more prominent in various sectors of work such as Medical Science, Information Technology, Sports and even Housing. Housing utilises and benefits greatly through the use of Machine Learning. Housing details is known for its incorporation of Data to help improve the resale value of a house, be it regarding the location, floor area, type of house etc.\n",
    "\n",
    "Hence, as data plays a big part in this field, I wanted to see if the data compiled can accurately predict the resale price for each house using the dataset provided for this Assignment that consists of Housing Transactions data compiled from the year 2017 2019. I will be using Regression models to showcase the results that I have obtained.\n"
   ]
  },
  {
   "cell_type": "markdown",
   "metadata": {},
   "source": [
    "# 7.2 Exploratory Data Analysis and Data Cleansing <a id=\"part7.2\"></a>\n",
    "[Back to top](#top)\n",
    "\n",
    "Firstly, the null values in the dataset need to be dealt with using either Dropping, Replacing or Imputation methods. However, to do that, we need to find out which columns have null values present in them. Thus, we will use the following code : \n",
    "` select([count(when(isnan(c) | col(c).isNull(), c)).alias(c) for c in df.columns]).show()`\n",
    "\n",
    "This code allows us to see the count of null values in each column in the dataset. After executing this, it can be observed that only the `floor_area_sqm` column has null values with 50.  We can then see the rows with null values present in them using the code: \n",
    "` filter(df.floor_area_sqm.isNull())`\n",
    "\n",
    "From this, the null values present in the dataset belong to transactions involving 4-room flats of the Improved model type in a total of 8 different locations.\n",
    "As these values are of immense values to the dataset, they cannot be dropped, nor replaced by random values. Thus, we need to use the Imputation method such that the null values are removed and instead replaced with the mean values in a new column called `floor_area_sqm_imputed`. We then remove the `floor_area_sqm` column as it is no longer needed.\n",
    "\n",
    "We can then create new calculated columns such as `price_per_sqm` that divides the resale price by the floor area of a given house to see how much each square meter is really worth.\n",
    "\n",
    "Then, we can proceed to conduct the Exploratory Data Analysis(EDA) for this report using functions such as `filter`, `groupBy`,  `sort` and  `select`.  The key takeaways from the EDA conducted is as follows:\n",
    "-\tThe number of housing transactions increase year by year.\n",
    "-\t4-room flats are the most popular type of flats bought for all the 3 years.\n",
    "-\tOlder flats generally cost more than newer flats despite being smaller in size\n",
    "-\tMajority of newer flats that are being built are either 2,4 or 5 room flats\n",
    "-\tThe resale prices of 4-room and 5-room flats have appreciated after 3 years but the resale prices of 3-room flats has depreciated after 3 years\n"
   ]
  },
  {
   "cell_type": "markdown",
   "metadata": {},
   "source": [
    "# 7.3 Data Wrangling and Transformation <a id=\"part7.3\"></a>\n",
    "[Back to top](#top)\n",
    "\n",
    "Encoding Categorical Data is another essential facet of Machine Learning. Categorical variables are essentially variables that are either discrete and uncontinuous. As our data currently contains multiple categorical variable that the Regression model cannot use, we need to encode the Categorical Data. There are multiple variations of Categorical Data Encoding. The one we are going to use goes by the name of One Hot Encoding which represent a categorical variable as a group of binary variables, where each binary variable represents one category. The binary variable indicates whether the category is present in an observation (1) or not (0).\n",
    "However, first, I conducted String indexing so that the string values in columns like ` 'town', 'flat_type', 'block', 'street_name', 'storey_range', 'flat_model'` are encoded to the column label indices. Then I conducted One Hot Encoding by first creating the one hot encoder, then adding it to the dataframe using the `Pipeline` feature.\n",
    "\n",
    "Then, I consolidated the X columns using the VectorAssemble feature. VectorAssembler allows us to convert all the numerical features into 1 single vector that is to be used by the Machine Learning Model.\n",
    "For this assignment, we will use the Standardisation technique to conduct feature scaling. Standardisation refers to another scaling technique where the values are centered around the mean with a unit standard deviation. This results in the mean of the attribute becoming 0 and the resultant distribution in having a unit standard deviation. First, we will set up the StandardScaler before fitting the scaler to the dataset. Then, we will transform the dataset.\n"
   ]
  },
  {
   "cell_type": "markdown",
   "metadata": {},
   "source": [
    "# 7.4 Machine Learning Modelling <a id=\"part7.4\"></a>\n",
    "[Back to top](#top)\n",
    "\n",
    "As we have now successfully conducted various Data Wrangling and Data Cleaning and Transformation Techniques, we can now build the Machine Learning Model. As our prediction problem is a Regression problem, a Regression model needs to be built. Hence, a Linear Regression Model is to be built.\n",
    "\n",
    "However, before we build the Linear Regression Model, we need to first conduct the Train Test Split to get our Train and Test Datasets and then state the number of rows and columns in our final dataset. This will help show that the predictions are not trivial nor unrealistic.\n",
    "\n",
    "The train set has a total of 44731 rows and 27 columns while the test dataset has a total of 19516 rows and 27 columns. A preview of both the train and test datasets, consisting of 10 rows is then displayed.\n"
   ]
  },
  {
   "cell_type": "markdown",
   "metadata": {},
   "source": [
    "# 7.5 Model Evaluation and Metrics <a id=\"part7.5\"></a>\n",
    "[Back to top](#top)\n",
    "\n",
    "Linear regression is defined as a machine learning model in which the model finds the best fit linear line between the independent and dependent variables in which the aim is to find the best fit linear line and the optimal values of intercept and coefficients such that errors are minimized. For the purpose of this analysis, the goal is to use the X variables to predict the `resale_price` ( target variable).\n",
    "\n",
    "In order to evaluate the model performance, a range of metrics can be used, but in this report, we will focus on only 3:\n",
    "- Mean Square Error (MSE): The MSE is the average squared difference between the predicted values and the actual values in a dataset. The lower the MSE, the better said model fits a dataset.\n",
    "- Mean Absolute Error (MAE): The MAE is the absolute average distance between the predicted values and the actual values in the dataset. The lower the MAE, the better the model fits the dataset.\n",
    "- R-Square: R-square represents the percentage of the response variable variation that is explained by a linear model. The closer to 1.0 the value of R-square, the more indicative of a better fit and model performance.\n",
    "\n",
    "Upon seeing the predictions made by the Linear Regression model, it can be observed clearly that the prediction values are nearly equivalent to their respective original resale price values. This is backed up by the R-Square values which has a value of 1.0 for both the train and the test datasets. \n"
   ]
  },
  {
   "cell_type": "markdown",
   "metadata": {},
   "source": [
    "# 7.6 Summary and Further Improvements <a id=\"part7.6\"></a>\n",
    "[Back to top](#top)\n",
    "\n",
    "In this report, we conducted Data Cleansing, Data Exploration, Data Wrangling, Transformation and Feature Scaling techniques. We also created a Linear Regression model that returned us with the MSE, MAE and R-Square values. The `MSE` metric for the Tests set achieved a really good score of `2.02 ` and the `MAE` metric also attained a good score of `3.76 ` which means the dataset fit the `Linear Regression` model really well. The `R2` metric achieved an amazing score of `1.0 `, highlighting that the `Linear Regression model` performed really well.\n",
    "\n",
    "At the end of this report, it can be seen that the model fits the dataset accurately, which is too good to be true in a real case scenario as it is impossible that all the predicted values are deemed to be near perfect. This is one aspect that needs to be worked on. Moreover, I only used 1 model, `Linear Regression Model`, when I could have used more, to get a variety of models to choose from to see which best fits the dataset.\n"
   ]
  },
  {
   "cell_type": "markdown",
   "metadata": {},
   "source": [
    "### \"Unlisted\" Youtube Link to Video Presentation"
   ]
  },
  {
   "cell_type": "code",
   "execution_count": 80,
   "metadata": {},
   "outputs": [],
   "source": [
    "# insert your link in this cell, you are allowed to comment it out\n",
    "# youtube link: https://youtu.be/sF66102uTCE"
   ]
  }
 ],
 "metadata": {
  "kernelspec": {
   "display_name": "Python 3 (ipykernel)",
   "language": "python",
   "name": "python3"
  },
  "language_info": {
   "codemirror_mode": {
    "name": "ipython",
    "version": 3
   },
   "file_extension": ".py",
   "mimetype": "text/x-python",
   "name": "python",
   "nbconvert_exporter": "python",
   "pygments_lexer": "ipython3",
   "version": "3.9.13"
  }
 },
 "nbformat": 4,
 "nbformat_minor": 4
}
